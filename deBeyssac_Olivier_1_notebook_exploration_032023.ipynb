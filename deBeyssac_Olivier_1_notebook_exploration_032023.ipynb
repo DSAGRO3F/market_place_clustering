{
 "cells": [
  {
   "cell_type": "markdown",
   "id": "3ed0f6ae",
   "metadata": {
    "toc": true
   },
   "source": [
    "<h1>Table of Contents<span class=\"tocSkip\"></span></h1>\n",
    "<div class=\"toc\"><ul class=\"toc-item\"><li><span><a href=\"#Introduction.\" data-toc-modified-id=\"Introduction.-1\"><span class=\"toc-item-num\">1&nbsp;&nbsp;</span>Introduction.</a></span></li><li><span><a href=\"#Import-modules.\" data-toc-modified-id=\"Import-modules.-2\"><span class=\"toc-item-num\">2&nbsp;&nbsp;</span>Import modules.</a></span></li><li><span><a href=\"#Chargement-data.\" data-toc-modified-id=\"Chargement-data.-3\"><span class=\"toc-item-num\">3&nbsp;&nbsp;</span>Chargement data.</a></span></li><li><span><a href=\"#dataset-merged.\" data-toc-modified-id=\"dataset-merged.-4\"><span class=\"toc-item-num\">4&nbsp;&nbsp;</span>dataset merged.</a></span><ul class=\"toc-item\"><li><span><a href=\"#Observation-des-valeurs-manquantes-et-conversion-formats-de-données.\" data-toc-modified-id=\"Observation-des-valeurs-manquantes-et-conversion-formats-de-données.-4.1\"><span class=\"toc-item-num\">4.1&nbsp;&nbsp;</span>Observation des valeurs manquantes et conversion formats de données.</a></span></li></ul></li><li><span><a href=\"#Sales-&amp;-orders.\" data-toc-modified-id=\"Sales-&amp;-orders.-5\"><span class=\"toc-item-num\">5&nbsp;&nbsp;</span>Sales &amp; orders.</a></span><ul class=\"toc-item\"><li><span><a href=\"#Total-sales.\" data-toc-modified-id=\"Total-sales.-5.1\"><span class=\"toc-item-num\">5.1&nbsp;&nbsp;</span>Total sales.</a></span></li><li><span><a href=\"#Total-orders.\" data-toc-modified-id=\"Total-orders.-5.2\"><span class=\"toc-item-num\">5.2&nbsp;&nbsp;</span>Total orders.</a></span></li><li><span><a href=\"#Cumulative-sales,-orders.\" data-toc-modified-id=\"Cumulative-sales,-orders.-5.3\"><span class=\"toc-item-num\">5.3&nbsp;&nbsp;</span>Cumulative sales, orders.</a></span></li></ul></li><li><span><a href=\"#RFM-method.\" data-toc-modified-id=\"RFM-method.-6\"><span class=\"toc-item-num\">6&nbsp;&nbsp;</span>RFM method.</a></span><ul class=\"toc-item\"><li><span><a href=\"#Calcul-récence,-fréquence,-montant,-estimated-delivery-date-versus-delivery.\" data-toc-modified-id=\"Calcul-récence,-fréquence,-montant,-estimated-delivery-date-versus-delivery.-6.1\"><span class=\"toc-item-num\">6.1&nbsp;&nbsp;</span>Calcul récence, fréquence, montant, estimated delivery date versus delivery.</a></span><ul class=\"toc-item\"><li><span><a href=\"#Vérification-duplications.\" data-toc-modified-id=\"Vérification-duplications.-6.1.1\"><span class=\"toc-item-num\">6.1.1&nbsp;&nbsp;</span>Vérification duplications.</a></span></li><li><span><a href=\"#Vérification,-remplacement-valeurs-manquantes-variables-de-dates.\" data-toc-modified-id=\"Vérification,-remplacement-valeurs-manquantes-variables-de-dates.-6.1.2\"><span class=\"toc-item-num\">6.1.2&nbsp;&nbsp;</span>Vérification, remplacement valeurs manquantes variables de dates.</a></span></li></ul></li><li><span><a href=\"#Vérifications-présence-valeurs-pour-sales,-orders.\" data-toc-modified-id=\"Vérifications-présence-valeurs-pour-sales,-orders.-6.2\"><span class=\"toc-item-num\">6.2&nbsp;&nbsp;</span>Vérifications présence valeurs pour sales, orders.</a></span><ul class=\"toc-item\"><li><span><a href=\"#Zooming-period.\" data-toc-modified-id=\"Zooming-period.-6.2.1\"><span class=\"toc-item-num\">6.2.1&nbsp;&nbsp;</span>Zooming period.</a></span></li><li><span><a href=\"#Calcul-dates-d'achat-la-plus-lointaine-et-la-plus-récente\" data-toc-modified-id=\"Calcul-dates-d'achat-la-plus-lointaine-et-la-plus-récente-6.2.2\"><span class=\"toc-item-num\">6.2.2&nbsp;&nbsp;</span>Calcul dates d'achat la plus lointaine et la plus récente</a></span></li><li><span><a href=\"#Score-RFMD.\" data-toc-modified-id=\"Score-RFMD.-6.2.3\"><span class=\"toc-item-num\">6.2.3&nbsp;&nbsp;</span>Score RFMD.</a></span></li><li><span><a href=\"#Score-RFMD.\" data-toc-modified-id=\"Score-RFMD.-6.2.4\"><span class=\"toc-item-num\">6.2.4&nbsp;&nbsp;</span>Score RFMD.</a></span></li></ul></li></ul></li><li><span><a href=\"#Numerical-features,-datetime-&amp;-categorical-features.\" data-toc-modified-id=\"Numerical-features,-datetime-&amp;-categorical-features.-7\"><span class=\"toc-item-num\">7&nbsp;&nbsp;</span>Numerical features, datetime &amp; categorical features.</a></span></li><li><span><a href=\"#Distribution,-numerical-features\" data-toc-modified-id=\"Distribution,-numerical-features-8\"><span class=\"toc-item-num\">8&nbsp;&nbsp;</span>Distribution, numerical features</a></span></li><li><span><a href=\"#DataFrame-pour-analyse.\" data-toc-modified-id=\"DataFrame-pour-analyse.-9\"><span class=\"toc-item-num\">9&nbsp;&nbsp;</span>DataFrame pour analyse.</a></span></li><li><span><a href=\"#Remplacement-valeurs-manquantes,-numerical-features.\" data-toc-modified-id=\"Remplacement-valeurs-manquantes,-numerical-features.-10\"><span class=\"toc-item-num\">10&nbsp;&nbsp;</span>Remplacement valeurs manquantes, numerical features.</a></span><ul class=\"toc-item\"><li><span><a href=\"#Pipelines.\" data-toc-modified-id=\"Pipelines.-10.1\"><span class=\"toc-item-num\">10.1&nbsp;&nbsp;</span>Pipelines.</a></span><ul class=\"toc-item\"><li><span><a href=\"#Numerical-pipeline.\" data-toc-modified-id=\"Numerical-pipeline.-10.1.1\"><span class=\"toc-item-num\">10.1.1&nbsp;&nbsp;</span>Numerical pipeline.</a></span></li><li><span><a href=\"#Preprocessor.\" data-toc-modified-id=\"Preprocessor.-10.1.2\"><span class=\"toc-item-num\">10.1.2&nbsp;&nbsp;</span>Preprocessor.</a></span></li></ul></li></ul></li><li><span><a href=\"#Influence-variable-délai-livraison.\" data-toc-modified-id=\"Influence-variable-délai-livraison.-11\"><span class=\"toc-item-num\">11&nbsp;&nbsp;</span>Influence variable délai livraison.</a></span></li><li><span><a href=\"#Réduction-dimensions:-PCA.\" data-toc-modified-id=\"Réduction-dimensions:-PCA.-12\"><span class=\"toc-item-num\">12&nbsp;&nbsp;</span>Réduction dimensions: PCA.</a></span><ul class=\"toc-item\"><li><span><a href=\"#Vérification-indépendance-des-variables.\" data-toc-modified-id=\"Vérification-indépendance-des-variables.-12.1\"><span class=\"toc-item-num\">12.1&nbsp;&nbsp;</span>Vérification indépendance des variables.</a></span></li><li><span><a href=\"#Variance-expliquée.\" data-toc-modified-id=\"Variance-expliquée.-12.2\"><span class=\"toc-item-num\">12.2&nbsp;&nbsp;</span>Variance expliquée.</a></span><ul class=\"toc-item\"><li><span><a href=\"#Affichage-variance-expliquée.\" data-toc-modified-id=\"Affichage-variance-expliquée.-12.2.1\"><span class=\"toc-item-num\">12.2.1&nbsp;&nbsp;</span>Affichage variance expliquée.</a></span></li><li><span><a href=\"#Projection-sur-plan-pc0-et-pc1.\" data-toc-modified-id=\"Projection-sur-plan-pc0-et-pc1.-12.2.2\"><span class=\"toc-item-num\">12.2.2&nbsp;&nbsp;</span>Projection sur plan pc0 et pc1.</a></span></li><li><span><a href=\"#Expression-des-features-originelles-en-fonction-des-deux-composantes-principales.\" data-toc-modified-id=\"Expression-des-features-originelles-en-fonction-des-deux-composantes-principales.-12.2.3\"><span class=\"toc-item-num\">12.2.3&nbsp;&nbsp;</span>Expression des features originelles en fonction des deux composantes principales.</a></span></li></ul></li><li><span><a href=\"#T-sne.\" data-toc-modified-id=\"T-sne.-12.3\"><span class=\"toc-item-num\">12.3&nbsp;&nbsp;</span>T-sne.</a></span><ul class=\"toc-item\"><li><span><a href=\"#Visualisation-des-clusters-avec-t-sne.\" data-toc-modified-id=\"Visualisation-des-clusters-avec-t-sne.-12.3.1\"><span class=\"toc-item-num\">12.3.1&nbsp;&nbsp;</span>Visualisation des clusters avec t-sne.</a></span></li></ul></li></ul></li><li><span><a href=\"#Clustering.\" data-toc-modified-id=\"Clustering.-13\"><span class=\"toc-item-num\">13&nbsp;&nbsp;</span>Clustering.</a></span><ul class=\"toc-item\"><li><span><a href=\"#KMeans.\" data-toc-modified-id=\"KMeans.-13.1\"><span class=\"toc-item-num\">13.1&nbsp;&nbsp;</span>KMeans.</a></span><ul class=\"toc-item\"><li><span><a href=\"#Nb-of-clusters.\" data-toc-modified-id=\"Nb-of-clusters.-13.1.1\"><span class=\"toc-item-num\">13.1.1&nbsp;&nbsp;</span>Nb of clusters.</a></span></li><li><span><a href=\"#Visualization-nb.-of-clusters.\" data-toc-modified-id=\"Visualization-nb.-of-clusters.-13.1.2\"><span class=\"toc-item-num\">13.1.2&nbsp;&nbsp;</span>Visualization nb. of clusters.</a></span></li><li><span><a href=\"#Labels.\" data-toc-modified-id=\"Labels.-13.1.3\"><span class=\"toc-item-num\">13.1.3&nbsp;&nbsp;</span>Labels.</a></span></li><li><span><a href=\"#Clusters-centers.\" data-toc-modified-id=\"Clusters-centers.-13.1.4\"><span class=\"toc-item-num\">13.1.4&nbsp;&nbsp;</span>Clusters centers.</a></span></li><li><span><a href=\"#Visualisation-des-clusters.\" data-toc-modified-id=\"Visualisation-des-clusters.-13.1.5\"><span class=\"toc-item-num\">13.1.5&nbsp;&nbsp;</span>Visualisation des clusters.</a></span></li><li><span><a href=\"#Vérification-adéquation-du-nombre-de-clusters.\" data-toc-modified-id=\"Vérification-adéquation-du-nombre-de-clusters.-13.1.6\"><span class=\"toc-item-num\">13.1.6&nbsp;&nbsp;</span>Vérification adéquation du nombre de clusters.</a></span></li><li><span><a href=\"#Interprétation-des-clusters.\" data-toc-modified-id=\"Interprétation-des-clusters.-13.1.7\"><span class=\"toc-item-num\">13.1.7&nbsp;&nbsp;</span>Interprétation des clusters.</a></span></li></ul></li><li><span><a href=\"#Clustering-hiérarchique.\" data-toc-modified-id=\"Clustering-hiérarchique.-13.2\"><span class=\"toc-item-num\">13.2&nbsp;&nbsp;</span>Clustering hiérarchique.</a></span></li><li><span><a href=\"#Clustering-de-densité.\" data-toc-modified-id=\"Clustering-de-densité.-13.3\"><span class=\"toc-item-num\">13.3&nbsp;&nbsp;</span>Clustering de densité.</a></span></li></ul></li><li><span><a href=\"#Cluster-maintenance.\" data-toc-modified-id=\"Cluster-maintenance.-14\"><span class=\"toc-item-num\">14&nbsp;&nbsp;</span>Cluster maintenance.</a></span></li></ul></div>"
   ]
  },
  {
   "cell_type": "markdown",
   "id": "22fd8c73",
   "metadata": {},
   "source": [
    "# Introduction."
   ]
  },
  {
   "cell_type": "markdown",
   "id": "814216f2",
   "metadata": {},
   "source": [
    "Olist, compagnie Brésilenne, se présente comme un eco-système à destination du segment \"SMB\" et propose des services orientés recherche de capital, prospection de nouveaux clients et organisation des flux logistiques. Ces services s'appuient sur de la donnée régulièrement mise à jour par les équipes d'Olist (https://www.crunchbase.com/organization/olist).\n",
    "\n",
    "La mission consiste à produire aux équipes d'e-commerce une segmentation des clients qu’elles pourront utiliser au quotidien pour leurs campagnes de communication.\n",
    "\n",
    "Il s'agit de fournir à l’équipe marketing une description actionable de la segmentation et de sa logique sous-jacente pour une utilisation optimale, ainsi qu’une proposition de contrat de maintenance basée sur une analyse de la stabilité des segments au cours du temps.\n",
    "\n",
    "Il faut en particulier aider les équipes d’Olist à comprendre les différents types d'utilisateurs. Ces types d'utilisateurs feront l'objet de catégories qui seront utilisées par l’équipe Marketing."
   ]
  },
  {
   "cell_type": "markdown",
   "id": "98ecc3e1",
   "metadata": {},
   "source": [
    "# Import modules."
   ]
  },
  {
   "cell_type": "code",
   "execution_count": 1,
   "id": "d7eacd98",
   "metadata": {},
   "outputs": [],
   "source": [
    "import numpy as np\n",
    "import pandas as pd\n",
    "import itertools\n",
    "from datetime import datetime, timedelta\n",
    "from dateutil.relativedelta import relativedelta\n",
    "from scipy.interpolate import make_interp_spline, BSpline\n",
    "from scipy.cluster import hierarchy\n",
    "\n",
    "import matplotlib.pyplot as plt\n",
    "from matplotlib import cm\n",
    "from yellowbrick.features import ParallelCoordinates\n",
    "from pandas.plotting import parallel_coordinates\n",
    "import seaborn as sns\n",
    "from cycler import cycler\n",
    "\n",
    "import sklearn\n",
    "from sklearn.linear_model import LinearRegression\n",
    "from sklearn.neighbors import KNeighborsClassifier, NearestNeighbors\n",
    "from sklearn.svm import SVR\n",
    "from sklearn.cluster import KMeans\n",
    "from sklearn.cluster import AgglomerativeClustering\n",
    "from scipy.cluster.hierarchy import dendrogram\n",
    "from scipy.cluster.hierarchy import linkage, fcluster \n",
    "from sklearn.cluster import DBSCAN\n",
    "from scipy.cluster import hierarchy\n",
    "\n",
    "from sklearn.model_selection import train_test_split\n",
    "from sklearn.model_selection import cross_val_score\n",
    "from sklearn.model_selection import validation_curve\n",
    "from sklearn.model_selection import GridSearchCV\n",
    "from sklearn.model_selection import RandomizedSearchCV\n",
    "from sklearn.model_selection import learning_curve\n",
    "\n",
    "from sklearn import metrics\n",
    "from sklearn.metrics import confusion_matrix\n",
    "from sklearn.metrics import mean_absolute_error, mean_squared_error\n",
    "from sklearn.metrics import pairwise_distances\n",
    "from sklearn.metrics import silhouette_samples, silhouette_score\n",
    "from sklearn.metrics.cluster import adjusted_rand_score\n",
    "\n",
    "from sklearn.preprocessing import PolynomialFeatures\n",
    "from sklearn.preprocessing import RobustScaler, StandardScaler, MinMaxScaler\n",
    "from sklearn.preprocessing import OneHotEncoder\n",
    "\n",
    "from sklearn.compose import make_column_transformer\n",
    "from sklearn.compose import make_column_selector\n",
    "\n",
    "from sklearn.pipeline import make_pipeline\n",
    "\n",
    "from sklearn.impute import SimpleImputer\n",
    "from sklearn.impute import KNNImputer\n",
    "\n",
    "from sklearn.decomposition import PCA\n",
    "from sklearn.manifold import TSNE\n",
    "\n",
    "from sklearn.feature_selection import VarianceThreshold, SelectKBest, f_classif, f_regression\n",
    "\n",
    "from sklearn.ensemble import RandomForestRegressor, AdaBoostRegressor, GradientBoostingRegressor\n",
    "\n"
   ]
  },
  {
   "cell_type": "markdown",
   "id": "2d666222",
   "metadata": {},
   "source": [
    "# Chargement data."
   ]
  },
  {
   "cell_type": "code",
   "execution_count": 2,
   "id": "1b2ad93d",
   "metadata": {},
   "outputs": [],
   "source": [
    "customers = '/Users/olivierdebeyssac/Open Classrooms/Data_scientist/Projet_5/Data/archive/olist_customers_dataset.csv'\n",
    "geo = '/Users/olivierdebeyssac/Open Classrooms/Data_scientist/Projet_5/Data/archive/olist_geolocation_dataset.csv'\n",
    "ord_items = '/Users/olivierdebeyssac/Open Classrooms/Data_scientist/Projet_5/Data/archive/olist_order_items_dataset.csv'\n",
    "ord_pay = '/Users/olivierdebeyssac/Open Classrooms/Data_scientist/Projet_5/Data/archive/olist_order_payments_dataset.csv'\n",
    "ord_rev = '/Users/olivierdebeyssac/Open Classrooms/Data_scientist/Projet_5/Data/archive/olist_order_reviews_dataset.csv'\n",
    "ord_data = '/Users/olivierdebeyssac/Open Classrooms/Data_scientist/Projet_5/Data/archive/olist_orders_dataset.csv'\n",
    "ord_product = '/Users/olivierdebeyssac/Open Classrooms/Data_scientist/Projet_5/Data/archive/olist_products_dataset.csv'\n",
    "sellers = '/Users/olivierdebeyssac/Open Classrooms/Data_scientist/Projet_5/Data/archive/olist_sellers_dataset.csv'\n",
    "prod_cat = '/Users/olivierdebeyssac/Open Classrooms/Data_scientist/Projet_5/Data/archive/product_category_name_translation.csv'\n",
    "\n",
    "\n"
   ]
  },
  {
   "cell_type": "code",
   "execution_count": 3,
   "id": "8b18e254",
   "metadata": {},
   "outputs": [],
   "source": [
    "df_cust = pd.read_csv(customers, sep=',')\n",
    "df_geo = pd.read_csv(geo, sep=',')\n",
    "df_ord_items = pd.read_csv(ord_items, sep=',')\n",
    "df_ord_pay = pd.read_csv(ord_pay, sep=',')\n",
    "df_ord_rev = pd.read_csv(ord_rev, sep=',')\n",
    "df_ord_data = pd.read_csv(ord_data, sep=',')\n",
    "df_ord_product = pd.read_csv(ord_product, sep=',')\n",
    "df_sellers = pd.read_csv(sellers, sep=',')\n",
    "df_prod_cat = pd.read_csv(prod_cat, sep=',')\n",
    "\n",
    "\n"
   ]
  },
  {
   "cell_type": "code",
   "execution_count": 4,
   "id": "d4354b11",
   "metadata": {
    "scrolled": true
   },
   "outputs": [
    {
     "name": "stdout",
     "output_type": "stream",
     "text": [
      "<class 'pandas.core.frame.DataFrame'>\n",
      "RangeIndex: 99441 entries, 0 to 99440\n",
      "Data columns (total 5 columns):\n",
      " #   Column                    Non-Null Count  Dtype \n",
      "---  ------                    --------------  ----- \n",
      " 0   customer_id               99441 non-null  object\n",
      " 1   customer_unique_id        99441 non-null  object\n",
      " 2   customer_zip_code_prefix  99441 non-null  int64 \n",
      " 3   customer_city             99441 non-null  object\n",
      " 4   customer_state            99441 non-null  object\n",
      "dtypes: int64(1), object(4)\n",
      "memory usage: 3.8+ MB\n"
     ]
    }
   ],
   "source": [
    "df_cust.info()"
   ]
  },
  {
   "cell_type": "code",
   "execution_count": 5,
   "id": "e5906b57",
   "metadata": {},
   "outputs": [
    {
     "data": {
      "text/plain": [
       "False"
      ]
     },
     "execution_count": 5,
     "metadata": {},
     "output_type": "execute_result"
    }
   ],
   "source": [
    "df_cust.duplicated().any()"
   ]
  },
  {
   "cell_type": "code",
   "execution_count": 6,
   "id": "644e8ed8",
   "metadata": {},
   "outputs": [
    {
     "name": "stdout",
     "output_type": "stream",
     "text": [
      "<class 'pandas.core.frame.DataFrame'>\n",
      "RangeIndex: 1000163 entries, 0 to 1000162\n",
      "Data columns (total 5 columns):\n",
      " #   Column                       Non-Null Count    Dtype  \n",
      "---  ------                       --------------    -----  \n",
      " 0   geolocation_zip_code_prefix  1000163 non-null  int64  \n",
      " 1   geolocation_lat              1000163 non-null  float64\n",
      " 2   geolocation_lng              1000163 non-null  float64\n",
      " 3   geolocation_city             1000163 non-null  object \n",
      " 4   geolocation_state            1000163 non-null  object \n",
      "dtypes: float64(2), int64(1), object(2)\n",
      "memory usage: 38.2+ MB\n"
     ]
    }
   ],
   "source": [
    "df_geo.info()"
   ]
  },
  {
   "cell_type": "code",
   "execution_count": 7,
   "id": "e771777a",
   "metadata": {},
   "outputs": [
    {
     "data": {
      "text/plain": [
       "geolocation_city\n",
       "* cidade               1\n",
       "...arraial do cabo     1\n",
       "4o. centenario         1\n",
       "4º centenario          2\n",
       "abadia de goias        8\n",
       "                      ..\n",
       "áurea                  2\n",
       "ângulo                 4\n",
       "érico cardoso          1\n",
       "óbidos                11\n",
       "óleo                   4\n",
       "Name: geolocation_zip_code_prefix, Length: 8011, dtype: int64"
      ]
     },
     "execution_count": 7,
     "metadata": {},
     "output_type": "execute_result"
    }
   ],
   "source": [
    "df_geo.groupby(['geolocation_city'])['geolocation_zip_code_prefix'].count()"
   ]
  },
  {
   "cell_type": "code",
   "execution_count": 8,
   "id": "6570f6aa",
   "metadata": {
    "scrolled": true
   },
   "outputs": [
    {
     "data": {
      "text/html": [
       "<div>\n",
       "<style scoped>\n",
       "    .dataframe tbody tr th:only-of-type {\n",
       "        vertical-align: middle;\n",
       "    }\n",
       "\n",
       "    .dataframe tbody tr th {\n",
       "        vertical-align: top;\n",
       "    }\n",
       "\n",
       "    .dataframe thead th {\n",
       "        text-align: right;\n",
       "    }\n",
       "</style>\n",
       "<table border=\"1\" class=\"dataframe\">\n",
       "  <thead>\n",
       "    <tr style=\"text-align: right;\">\n",
       "      <th></th>\n",
       "      <th>geolocation_zip_code_prefix</th>\n",
       "      <th>geolocation_lat</th>\n",
       "      <th>geolocation_lng</th>\n",
       "      <th>geolocation_city</th>\n",
       "      <th>geolocation_state</th>\n",
       "    </tr>\n",
       "  </thead>\n",
       "  <tbody>\n",
       "    <tr>\n",
       "      <th>0</th>\n",
       "      <td>1037</td>\n",
       "      <td>-23.545621</td>\n",
       "      <td>-46.639292</td>\n",
       "      <td>sao paulo</td>\n",
       "      <td>SP</td>\n",
       "    </tr>\n",
       "    <tr>\n",
       "      <th>1</th>\n",
       "      <td>1046</td>\n",
       "      <td>-23.546081</td>\n",
       "      <td>-46.644820</td>\n",
       "      <td>sao paulo</td>\n",
       "      <td>SP</td>\n",
       "    </tr>\n",
       "    <tr>\n",
       "      <th>2</th>\n",
       "      <td>1046</td>\n",
       "      <td>-23.546129</td>\n",
       "      <td>-46.642951</td>\n",
       "      <td>sao paulo</td>\n",
       "      <td>SP</td>\n",
       "    </tr>\n",
       "    <tr>\n",
       "      <th>3</th>\n",
       "      <td>1041</td>\n",
       "      <td>-23.544392</td>\n",
       "      <td>-46.639499</td>\n",
       "      <td>sao paulo</td>\n",
       "      <td>SP</td>\n",
       "    </tr>\n",
       "    <tr>\n",
       "      <th>4</th>\n",
       "      <td>1035</td>\n",
       "      <td>-23.541578</td>\n",
       "      <td>-46.641607</td>\n",
       "      <td>sao paulo</td>\n",
       "      <td>SP</td>\n",
       "    </tr>\n",
       "    <tr>\n",
       "      <th>...</th>\n",
       "      <td>...</td>\n",
       "      <td>...</td>\n",
       "      <td>...</td>\n",
       "      <td>...</td>\n",
       "      <td>...</td>\n",
       "    </tr>\n",
       "    <tr>\n",
       "      <th>207052</th>\n",
       "      <td>8450</td>\n",
       "      <td>-23.547066</td>\n",
       "      <td>-46.391092</td>\n",
       "      <td>sao paulo</td>\n",
       "      <td>SP</td>\n",
       "    </tr>\n",
       "    <tr>\n",
       "      <th>207053</th>\n",
       "      <td>8473</td>\n",
       "      <td>-23.572693</td>\n",
       "      <td>-46.394236</td>\n",
       "      <td>sao paulo</td>\n",
       "      <td>SP</td>\n",
       "    </tr>\n",
       "    <tr>\n",
       "      <th>207054</th>\n",
       "      <td>8411</td>\n",
       "      <td>-23.555941</td>\n",
       "      <td>-46.413909</td>\n",
       "      <td>sao paulo</td>\n",
       "      <td>SP</td>\n",
       "    </tr>\n",
       "    <tr>\n",
       "      <th>207055</th>\n",
       "      <td>8470</td>\n",
       "      <td>-23.589970</td>\n",
       "      <td>-46.394581</td>\n",
       "      <td>sao paulo</td>\n",
       "      <td>SP</td>\n",
       "    </tr>\n",
       "    <tr>\n",
       "      <th>232549</th>\n",
       "      <td>9540</td>\n",
       "      <td>-23.626929</td>\n",
       "      <td>-46.572773</td>\n",
       "      <td>sao paulo</td>\n",
       "      <td>SP</td>\n",
       "    </tr>\n",
       "  </tbody>\n",
       "</table>\n",
       "<p>135800 rows × 5 columns</p>\n",
       "</div>"
      ],
      "text/plain": [
       "        geolocation_zip_code_prefix  geolocation_lat  geolocation_lng  \\\n",
       "0                              1037       -23.545621       -46.639292   \n",
       "1                              1046       -23.546081       -46.644820   \n",
       "2                              1046       -23.546129       -46.642951   \n",
       "3                              1041       -23.544392       -46.639499   \n",
       "4                              1035       -23.541578       -46.641607   \n",
       "...                             ...              ...              ...   \n",
       "207052                         8450       -23.547066       -46.391092   \n",
       "207053                         8473       -23.572693       -46.394236   \n",
       "207054                         8411       -23.555941       -46.413909   \n",
       "207055                         8470       -23.589970       -46.394581   \n",
       "232549                         9540       -23.626929       -46.572773   \n",
       "\n",
       "       geolocation_city geolocation_state  \n",
       "0             sao paulo                SP  \n",
       "1             sao paulo                SP  \n",
       "2             sao paulo                SP  \n",
       "3             sao paulo                SP  \n",
       "4             sao paulo                SP  \n",
       "...                 ...               ...  \n",
       "207052        sao paulo                SP  \n",
       "207053        sao paulo                SP  \n",
       "207054        sao paulo                SP  \n",
       "207055        sao paulo                SP  \n",
       "232549        sao paulo                SP  \n",
       "\n",
       "[135800 rows x 5 columns]"
      ]
     },
     "execution_count": 8,
     "metadata": {},
     "output_type": "execute_result"
    }
   ],
   "source": [
    "df_geo.loc[df_geo['geolocation_city'] == 'sao paulo',:]"
   ]
  },
  {
   "cell_type": "markdown",
   "id": "b4dd59f8",
   "metadata": {},
   "source": [
    "On observe:\n",
    "- il a des duplicates.\n",
    "- parfois le même zip code est rattaché à la même ville avec une orthographe différente.\n",
    "\n",
    "Il faut:\n",
    "- supprimer les lignes identiques\n",
    "- supprimer les lignes pour lesquelles le zip code correspond à la même ville orthographiée différemment."
   ]
  },
  {
   "cell_type": "code",
   "execution_count": 9,
   "id": "8c775484",
   "metadata": {},
   "outputs": [],
   "source": [
    "df_geo_restated = df_geo.drop(['geolocation_lat', 'geolocation_lng'], axis=1)"
   ]
  },
  {
   "cell_type": "code",
   "execution_count": 10,
   "id": "b68b55a2",
   "metadata": {},
   "outputs": [
    {
     "data": {
      "text/html": [
       "<div>\n",
       "<style scoped>\n",
       "    .dataframe tbody tr th:only-of-type {\n",
       "        vertical-align: middle;\n",
       "    }\n",
       "\n",
       "    .dataframe tbody tr th {\n",
       "        vertical-align: top;\n",
       "    }\n",
       "\n",
       "    .dataframe thead th {\n",
       "        text-align: right;\n",
       "    }\n",
       "</style>\n",
       "<table border=\"1\" class=\"dataframe\">\n",
       "  <thead>\n",
       "    <tr style=\"text-align: right;\">\n",
       "      <th></th>\n",
       "      <th>geolocation_zip_code_prefix</th>\n",
       "      <th>geolocation_city</th>\n",
       "      <th>geolocation_state</th>\n",
       "    </tr>\n",
       "  </thead>\n",
       "  <tbody>\n",
       "    <tr>\n",
       "      <th>0</th>\n",
       "      <td>1037</td>\n",
       "      <td>sao paulo</td>\n",
       "      <td>SP</td>\n",
       "    </tr>\n",
       "    <tr>\n",
       "      <th>1</th>\n",
       "      <td>1046</td>\n",
       "      <td>sao paulo</td>\n",
       "      <td>SP</td>\n",
       "    </tr>\n",
       "    <tr>\n",
       "      <th>2</th>\n",
       "      <td>1046</td>\n",
       "      <td>sao paulo</td>\n",
       "      <td>SP</td>\n",
       "    </tr>\n",
       "    <tr>\n",
       "      <th>3</th>\n",
       "      <td>1041</td>\n",
       "      <td>sao paulo</td>\n",
       "      <td>SP</td>\n",
       "    </tr>\n",
       "    <tr>\n",
       "      <th>4</th>\n",
       "      <td>1035</td>\n",
       "      <td>sao paulo</td>\n",
       "      <td>SP</td>\n",
       "    </tr>\n",
       "    <tr>\n",
       "      <th>...</th>\n",
       "      <td>...</td>\n",
       "      <td>...</td>\n",
       "      <td>...</td>\n",
       "    </tr>\n",
       "    <tr>\n",
       "      <th>1000158</th>\n",
       "      <td>99950</td>\n",
       "      <td>tapejara</td>\n",
       "      <td>RS</td>\n",
       "    </tr>\n",
       "    <tr>\n",
       "      <th>1000159</th>\n",
       "      <td>99900</td>\n",
       "      <td>getulio vargas</td>\n",
       "      <td>RS</td>\n",
       "    </tr>\n",
       "    <tr>\n",
       "      <th>1000160</th>\n",
       "      <td>99950</td>\n",
       "      <td>tapejara</td>\n",
       "      <td>RS</td>\n",
       "    </tr>\n",
       "    <tr>\n",
       "      <th>1000161</th>\n",
       "      <td>99980</td>\n",
       "      <td>david canabarro</td>\n",
       "      <td>RS</td>\n",
       "    </tr>\n",
       "    <tr>\n",
       "      <th>1000162</th>\n",
       "      <td>99950</td>\n",
       "      <td>tapejara</td>\n",
       "      <td>RS</td>\n",
       "    </tr>\n",
       "  </tbody>\n",
       "</table>\n",
       "<p>1000163 rows × 3 columns</p>\n",
       "</div>"
      ],
      "text/plain": [
       "         geolocation_zip_code_prefix geolocation_city geolocation_state\n",
       "0                               1037        sao paulo                SP\n",
       "1                               1046        sao paulo                SP\n",
       "2                               1046        sao paulo                SP\n",
       "3                               1041        sao paulo                SP\n",
       "4                               1035        sao paulo                SP\n",
       "...                              ...              ...               ...\n",
       "1000158                        99950         tapejara                RS\n",
       "1000159                        99900   getulio vargas                RS\n",
       "1000160                        99950         tapejara                RS\n",
       "1000161                        99980  david canabarro                RS\n",
       "1000162                        99950         tapejara                RS\n",
       "\n",
       "[1000163 rows x 3 columns]"
      ]
     },
     "execution_count": 10,
     "metadata": {},
     "output_type": "execute_result"
    }
   ],
   "source": [
    "df_geo_restated"
   ]
  },
  {
   "cell_type": "code",
   "execution_count": 11,
   "id": "813c8612",
   "metadata": {},
   "outputs": [],
   "source": [
    "df_geo_restated = df_geo_restated.drop_duplicates()"
   ]
  },
  {
   "cell_type": "code",
   "execution_count": 12,
   "id": "bc03ecb5",
   "metadata": {},
   "outputs": [
    {
     "data": {
      "text/html": [
       "<div>\n",
       "<style scoped>\n",
       "    .dataframe tbody tr th:only-of-type {\n",
       "        vertical-align: middle;\n",
       "    }\n",
       "\n",
       "    .dataframe tbody tr th {\n",
       "        vertical-align: top;\n",
       "    }\n",
       "\n",
       "    .dataframe thead th {\n",
       "        text-align: right;\n",
       "    }\n",
       "</style>\n",
       "<table border=\"1\" class=\"dataframe\">\n",
       "  <thead>\n",
       "    <tr style=\"text-align: right;\">\n",
       "      <th></th>\n",
       "      <th>geolocation_zip_code_prefix</th>\n",
       "      <th>geolocation_city</th>\n",
       "      <th>geolocation_state</th>\n",
       "    </tr>\n",
       "  </thead>\n",
       "  <tbody>\n",
       "    <tr>\n",
       "      <th>0</th>\n",
       "      <td>1037</td>\n",
       "      <td>sao paulo</td>\n",
       "      <td>SP</td>\n",
       "    </tr>\n",
       "    <tr>\n",
       "      <th>1</th>\n",
       "      <td>1046</td>\n",
       "      <td>sao paulo</td>\n",
       "      <td>SP</td>\n",
       "    </tr>\n",
       "    <tr>\n",
       "      <th>3</th>\n",
       "      <td>1041</td>\n",
       "      <td>sao paulo</td>\n",
       "      <td>SP</td>\n",
       "    </tr>\n",
       "    <tr>\n",
       "      <th>4</th>\n",
       "      <td>1035</td>\n",
       "      <td>sao paulo</td>\n",
       "      <td>SP</td>\n",
       "    </tr>\n",
       "    <tr>\n",
       "      <th>5</th>\n",
       "      <td>1012</td>\n",
       "      <td>são paulo</td>\n",
       "      <td>SP</td>\n",
       "    </tr>\n",
       "    <tr>\n",
       "      <th>...</th>\n",
       "      <td>...</td>\n",
       "      <td>...</td>\n",
       "      <td>...</td>\n",
       "    </tr>\n",
       "    <tr>\n",
       "      <th>999806</th>\n",
       "      <td>99940</td>\n",
       "      <td>ibiaçá</td>\n",
       "      <td>RS</td>\n",
       "    </tr>\n",
       "    <tr>\n",
       "      <th>999846</th>\n",
       "      <td>99952</td>\n",
       "      <td>santa cecilia do sul</td>\n",
       "      <td>RS</td>\n",
       "    </tr>\n",
       "    <tr>\n",
       "      <th>999867</th>\n",
       "      <td>99970</td>\n",
       "      <td>ciríaco</td>\n",
       "      <td>RS</td>\n",
       "    </tr>\n",
       "    <tr>\n",
       "      <th>999891</th>\n",
       "      <td>99930</td>\n",
       "      <td>estação</td>\n",
       "      <td>RS</td>\n",
       "    </tr>\n",
       "    <tr>\n",
       "      <th>1000046</th>\n",
       "      <td>99955</td>\n",
       "      <td>vila lângaro</td>\n",
       "      <td>RS</td>\n",
       "    </tr>\n",
       "  </tbody>\n",
       "</table>\n",
       "<p>27912 rows × 3 columns</p>\n",
       "</div>"
      ],
      "text/plain": [
       "         geolocation_zip_code_prefix      geolocation_city geolocation_state\n",
       "0                               1037             sao paulo                SP\n",
       "1                               1046             sao paulo                SP\n",
       "3                               1041             sao paulo                SP\n",
       "4                               1035             sao paulo                SP\n",
       "5                               1012             são paulo                SP\n",
       "...                              ...                   ...               ...\n",
       "999806                         99940                ibiaçá                RS\n",
       "999846                         99952  santa cecilia do sul                RS\n",
       "999867                         99970               ciríaco                RS\n",
       "999891                         99930               estação                RS\n",
       "1000046                        99955          vila lângaro                RS\n",
       "\n",
       "[27912 rows x 3 columns]"
      ]
     },
     "execution_count": 12,
     "metadata": {},
     "output_type": "execute_result"
    }
   ],
   "source": [
    "df_geo_restated"
   ]
  },
  {
   "cell_type": "code",
   "execution_count": 13,
   "id": "c8a3a572",
   "metadata": {
    "scrolled": false
   },
   "outputs": [
    {
     "name": "stdout",
     "output_type": "stream",
     "text": [
      "<class 'pandas.core.frame.DataFrame'>\n",
      "Int64Index: 27912 entries, 0 to 1000046\n",
      "Data columns (total 3 columns):\n",
      " #   Column                       Non-Null Count  Dtype \n",
      "---  ------                       --------------  ----- \n",
      " 0   geolocation_zip_code_prefix  27912 non-null  int64 \n",
      " 1   geolocation_city             27912 non-null  object\n",
      " 2   geolocation_state            27912 non-null  object\n",
      "dtypes: int64(1), object(2)\n",
      "memory usage: 872.2+ KB\n"
     ]
    }
   ],
   "source": [
    "df_geo_restated.info()"
   ]
  },
  {
   "cell_type": "code",
   "execution_count": 14,
   "id": "834257f7",
   "metadata": {
    "scrolled": true
   },
   "outputs": [
    {
     "data": {
      "text/html": [
       "<div>\n",
       "<style scoped>\n",
       "    .dataframe tbody tr th:only-of-type {\n",
       "        vertical-align: middle;\n",
       "    }\n",
       "\n",
       "    .dataframe tbody tr th {\n",
       "        vertical-align: top;\n",
       "    }\n",
       "\n",
       "    .dataframe thead th {\n",
       "        text-align: right;\n",
       "    }\n",
       "</style>\n",
       "<table border=\"1\" class=\"dataframe\">\n",
       "  <thead>\n",
       "    <tr style=\"text-align: right;\">\n",
       "      <th></th>\n",
       "      <th>geolocation_zip_code_prefix</th>\n",
       "      <th>geolocation_city</th>\n",
       "      <th>geolocation_state</th>\n",
       "    </tr>\n",
       "  </thead>\n",
       "  <tbody>\n",
       "    <tr>\n",
       "      <th>0</th>\n",
       "      <td>1037</td>\n",
       "      <td>sao paulo</td>\n",
       "      <td>SP</td>\n",
       "    </tr>\n",
       "    <tr>\n",
       "      <th>1</th>\n",
       "      <td>1046</td>\n",
       "      <td>sao paulo</td>\n",
       "      <td>SP</td>\n",
       "    </tr>\n",
       "    <tr>\n",
       "      <th>3</th>\n",
       "      <td>1041</td>\n",
       "      <td>sao paulo</td>\n",
       "      <td>SP</td>\n",
       "    </tr>\n",
       "    <tr>\n",
       "      <th>4</th>\n",
       "      <td>1035</td>\n",
       "      <td>sao paulo</td>\n",
       "      <td>SP</td>\n",
       "    </tr>\n",
       "    <tr>\n",
       "      <th>6</th>\n",
       "      <td>1047</td>\n",
       "      <td>sao paulo</td>\n",
       "      <td>SP</td>\n",
       "    </tr>\n",
       "    <tr>\n",
       "      <th>...</th>\n",
       "      <td>...</td>\n",
       "      <td>...</td>\n",
       "      <td>...</td>\n",
       "    </tr>\n",
       "    <tr>\n",
       "      <th>204627</th>\n",
       "      <td>8472</td>\n",
       "      <td>sao paulo</td>\n",
       "      <td>SP</td>\n",
       "    </tr>\n",
       "    <tr>\n",
       "      <th>204634</th>\n",
       "      <td>8410</td>\n",
       "      <td>sao paulo</td>\n",
       "      <td>SP</td>\n",
       "    </tr>\n",
       "    <tr>\n",
       "      <th>204916</th>\n",
       "      <td>8466</td>\n",
       "      <td>sao paulo</td>\n",
       "      <td>SP</td>\n",
       "    </tr>\n",
       "    <tr>\n",
       "      <th>205892</th>\n",
       "      <td>8404</td>\n",
       "      <td>sao paulo</td>\n",
       "      <td>SP</td>\n",
       "    </tr>\n",
       "    <tr>\n",
       "      <th>232549</th>\n",
       "      <td>9540</td>\n",
       "      <td>sao paulo</td>\n",
       "      <td>SP</td>\n",
       "    </tr>\n",
       "  </tbody>\n",
       "</table>\n",
       "<p>3172 rows × 3 columns</p>\n",
       "</div>"
      ],
      "text/plain": [
       "        geolocation_zip_code_prefix geolocation_city geolocation_state\n",
       "0                              1037        sao paulo                SP\n",
       "1                              1046        sao paulo                SP\n",
       "3                              1041        sao paulo                SP\n",
       "4                              1035        sao paulo                SP\n",
       "6                              1047        sao paulo                SP\n",
       "...                             ...              ...               ...\n",
       "204627                         8472        sao paulo                SP\n",
       "204634                         8410        sao paulo                SP\n",
       "204916                         8466        sao paulo                SP\n",
       "205892                         8404        sao paulo                SP\n",
       "232549                         9540        sao paulo                SP\n",
       "\n",
       "[3172 rows x 3 columns]"
      ]
     },
     "execution_count": 14,
     "metadata": {},
     "output_type": "execute_result"
    }
   ],
   "source": [
    "df_geo_restated.loc[df_geo_restated['geolocation_city'] == 'sao paulo', :]"
   ]
  },
  {
   "cell_type": "code",
   "execution_count": 15,
   "id": "d8668fbc",
   "metadata": {},
   "outputs": [
    {
     "data": {
      "text/plain": [
       "19015"
      ]
     },
     "execution_count": 15,
     "metadata": {},
     "output_type": "execute_result"
    }
   ],
   "source": [
    "df_geo_restated['geolocation_zip_code_prefix'].nunique()"
   ]
  },
  {
   "cell_type": "code",
   "execution_count": 16,
   "id": "584df75f",
   "metadata": {},
   "outputs": [
    {
     "data": {
      "text/plain": [
       "8011"
      ]
     },
     "execution_count": 16,
     "metadata": {},
     "output_type": "execute_result"
    }
   ],
   "source": [
    "df_geo_restated['geolocation_city'].nunique()"
   ]
  },
  {
   "cell_type": "code",
   "execution_count": 17,
   "id": "7cf06276",
   "metadata": {
    "scrolled": true
   },
   "outputs": [
    {
     "data": {
      "text/plain": [
       "27"
      ]
     },
     "execution_count": 17,
     "metadata": {},
     "output_type": "execute_result"
    }
   ],
   "source": [
    "df_geo_restated['geolocation_state'].nunique()"
   ]
  },
  {
   "cell_type": "markdown",
   "id": "f34334d9",
   "metadata": {},
   "source": [
    "Vérification de l'existence de valeurs dupliquées:"
   ]
  },
  {
   "cell_type": "code",
   "execution_count": 18,
   "id": "8a00debc",
   "metadata": {},
   "outputs": [
    {
     "data": {
      "text/plain": [
       "0          False\n",
       "1          False\n",
       "3          False\n",
       "4          False\n",
       "5          False\n",
       "           ...  \n",
       "999806      True\n",
       "999846     False\n",
       "999867      True\n",
       "999891      True\n",
       "1000046     True\n",
       "Length: 27912, dtype: bool"
      ]
     },
     "execution_count": 18,
     "metadata": {},
     "output_type": "execute_result"
    }
   ],
   "source": [
    "df_geo_restated.duplicated(subset='geolocation_zip_code_prefix')"
   ]
  },
  {
   "cell_type": "code",
   "execution_count": 19,
   "id": "a851fcbb",
   "metadata": {},
   "outputs": [],
   "source": [
    "df_geo_restated = df_geo_restated.drop_duplicates(subset='geolocation_zip_code_prefix')"
   ]
  },
  {
   "cell_type": "code",
   "execution_count": 20,
   "id": "4e7f08b2",
   "metadata": {
    "scrolled": true
   },
   "outputs": [
    {
     "data": {
      "text/plain": [
       "False"
      ]
     },
     "execution_count": 20,
     "metadata": {},
     "output_type": "execute_result"
    }
   ],
   "source": [
    "df_geo_restated.duplicated(subset='geolocation_zip_code_prefix').any()"
   ]
  },
  {
   "cell_type": "code",
   "execution_count": 21,
   "id": "d54cd081",
   "metadata": {
    "scrolled": true
   },
   "outputs": [
    {
     "data": {
      "text/plain": [
       "0         False\n",
       "1         False\n",
       "3         False\n",
       "4         False\n",
       "5         False\n",
       "          ...  \n",
       "999774    False\n",
       "999780    False\n",
       "999786    False\n",
       "999803    False\n",
       "999846    False\n",
       "Length: 19015, dtype: bool"
      ]
     },
     "execution_count": 21,
     "metadata": {},
     "output_type": "execute_result"
    }
   ],
   "source": [
    "df_geo_restated.duplicated()"
   ]
  },
  {
   "cell_type": "code",
   "execution_count": 22,
   "id": "75adc7a8",
   "metadata": {},
   "outputs": [
    {
     "data": {
      "text/plain": [
       "False"
      ]
     },
     "execution_count": 22,
     "metadata": {},
     "output_type": "execute_result"
    }
   ],
   "source": [
    "df_geo_restated.duplicated().any()"
   ]
  },
  {
   "cell_type": "code",
   "execution_count": 23,
   "id": "971131ea",
   "metadata": {
    "scrolled": true
   },
   "outputs": [
    {
     "name": "stdout",
     "output_type": "stream",
     "text": [
      "<class 'pandas.core.frame.DataFrame'>\n",
      "RangeIndex: 112650 entries, 0 to 112649\n",
      "Data columns (total 7 columns):\n",
      " #   Column               Non-Null Count   Dtype  \n",
      "---  ------               --------------   -----  \n",
      " 0   order_id             112650 non-null  object \n",
      " 1   order_item_id        112650 non-null  int64  \n",
      " 2   product_id           112650 non-null  object \n",
      " 3   seller_id            112650 non-null  object \n",
      " 4   shipping_limit_date  112650 non-null  object \n",
      " 5   price                112650 non-null  float64\n",
      " 6   freight_value        112650 non-null  float64\n",
      "dtypes: float64(2), int64(1), object(4)\n",
      "memory usage: 6.0+ MB\n"
     ]
    }
   ],
   "source": [
    "df_ord_items.info()"
   ]
  },
  {
   "cell_type": "code",
   "execution_count": 24,
   "id": "c8d96be0",
   "metadata": {
    "scrolled": true
   },
   "outputs": [
    {
     "data": {
      "text/plain": [
       "False"
      ]
     },
     "execution_count": 24,
     "metadata": {},
     "output_type": "execute_result"
    }
   ],
   "source": [
    "df_ord_items.duplicated().any()"
   ]
  },
  {
   "cell_type": "code",
   "execution_count": 25,
   "id": "1ade484c",
   "metadata": {},
   "outputs": [
    {
     "name": "stdout",
     "output_type": "stream",
     "text": [
      "<class 'str'>\n",
      "<class 'str'>\n",
      "<class 'numpy.float64'>\n"
     ]
    }
   ],
   "source": [
    "# types de format de données\n",
    "\n",
    "print(type(df_ord_items['shipping_limit_date'][0]))\n",
    "\n",
    "print(type(df_ord_items['product_id'][0]))\n",
    "\n",
    "print(type(df_ord_items['freight_value'][0]))\n",
    "\n"
   ]
  },
  {
   "cell_type": "code",
   "execution_count": 26,
   "id": "aa4a22c3",
   "metadata": {
    "scrolled": true
   },
   "outputs": [
    {
     "name": "stdout",
     "output_type": "stream",
     "text": [
      "<class 'pandas.core.frame.DataFrame'>\n",
      "RangeIndex: 103886 entries, 0 to 103885\n",
      "Data columns (total 5 columns):\n",
      " #   Column                Non-Null Count   Dtype  \n",
      "---  ------                --------------   -----  \n",
      " 0   order_id              103886 non-null  object \n",
      " 1   payment_sequential    103886 non-null  int64  \n",
      " 2   payment_type          103886 non-null  object \n",
      " 3   payment_installments  103886 non-null  int64  \n",
      " 4   payment_value         103886 non-null  float64\n",
      "dtypes: float64(1), int64(2), object(2)\n",
      "memory usage: 4.0+ MB\n"
     ]
    }
   ],
   "source": [
    "df_ord_pay.info()"
   ]
  },
  {
   "cell_type": "code",
   "execution_count": 27,
   "id": "78586c2d",
   "metadata": {},
   "outputs": [
    {
     "data": {
      "text/plain": [
       "False"
      ]
     },
     "execution_count": 27,
     "metadata": {},
     "output_type": "execute_result"
    }
   ],
   "source": [
    "df_ord_pay.duplicated().any()"
   ]
  },
  {
   "cell_type": "code",
   "execution_count": 28,
   "id": "f445c77f",
   "metadata": {
    "scrolled": true
   },
   "outputs": [
    {
     "name": "stdout",
     "output_type": "stream",
     "text": [
      "<class 'pandas.core.frame.DataFrame'>\n",
      "RangeIndex: 99224 entries, 0 to 99223\n",
      "Data columns (total 7 columns):\n",
      " #   Column                   Non-Null Count  Dtype \n",
      "---  ------                   --------------  ----- \n",
      " 0   review_id                99224 non-null  object\n",
      " 1   order_id                 99224 non-null  object\n",
      " 2   review_score             99224 non-null  int64 \n",
      " 3   review_comment_title     11568 non-null  object\n",
      " 4   review_comment_message   40977 non-null  object\n",
      " 5   review_creation_date     99224 non-null  object\n",
      " 6   review_answer_timestamp  99224 non-null  object\n",
      "dtypes: int64(1), object(6)\n",
      "memory usage: 5.3+ MB\n"
     ]
    }
   ],
   "source": [
    "df_ord_rev.info()"
   ]
  },
  {
   "cell_type": "code",
   "execution_count": 29,
   "id": "5a8a96d2",
   "metadata": {},
   "outputs": [
    {
     "data": {
      "text/plain": [
       "False"
      ]
     },
     "execution_count": 29,
     "metadata": {},
     "output_type": "execute_result"
    }
   ],
   "source": [
    "df_ord_rev.duplicated().any()"
   ]
  },
  {
   "cell_type": "code",
   "execution_count": 30,
   "id": "66ad4ec7",
   "metadata": {
    "scrolled": true
   },
   "outputs": [
    {
     "name": "stdout",
     "output_type": "stream",
     "text": [
      "<class 'pandas.core.frame.DataFrame'>\n",
      "RangeIndex: 99441 entries, 0 to 99440\n",
      "Data columns (total 8 columns):\n",
      " #   Column                         Non-Null Count  Dtype \n",
      "---  ------                         --------------  ----- \n",
      " 0   order_id                       99441 non-null  object\n",
      " 1   customer_id                    99441 non-null  object\n",
      " 2   order_status                   99441 non-null  object\n",
      " 3   order_purchase_timestamp       99441 non-null  object\n",
      " 4   order_approved_at              99281 non-null  object\n",
      " 5   order_delivered_carrier_date   97658 non-null  object\n",
      " 6   order_delivered_customer_date  96476 non-null  object\n",
      " 7   order_estimated_delivery_date  99441 non-null  object\n",
      "dtypes: object(8)\n",
      "memory usage: 6.1+ MB\n"
     ]
    }
   ],
   "source": [
    "df_ord_data.info()"
   ]
  },
  {
   "cell_type": "code",
   "execution_count": 31,
   "id": "c47c4be5",
   "metadata": {},
   "outputs": [
    {
     "data": {
      "text/plain": [
       "False"
      ]
     },
     "execution_count": 31,
     "metadata": {},
     "output_type": "execute_result"
    }
   ],
   "source": [
    "df_ord_data.duplicated().any()"
   ]
  },
  {
   "cell_type": "code",
   "execution_count": 32,
   "id": "ae0db75f",
   "metadata": {},
   "outputs": [
    {
     "name": "stdout",
     "output_type": "stream",
     "text": [
      "<class 'pandas.core.frame.DataFrame'>\n",
      "RangeIndex: 32951 entries, 0 to 32950\n",
      "Data columns (total 9 columns):\n",
      " #   Column                      Non-Null Count  Dtype  \n",
      "---  ------                      --------------  -----  \n",
      " 0   product_id                  32951 non-null  object \n",
      " 1   product_category_name       32341 non-null  object \n",
      " 2   product_name_lenght         32341 non-null  float64\n",
      " 3   product_description_lenght  32341 non-null  float64\n",
      " 4   product_photos_qty          32341 non-null  float64\n",
      " 5   product_weight_g            32949 non-null  float64\n",
      " 6   product_length_cm           32949 non-null  float64\n",
      " 7   product_height_cm           32949 non-null  float64\n",
      " 8   product_width_cm            32949 non-null  float64\n",
      "dtypes: float64(7), object(2)\n",
      "memory usage: 2.3+ MB\n"
     ]
    }
   ],
   "source": [
    "df_ord_product.info()"
   ]
  },
  {
   "cell_type": "code",
   "execution_count": 33,
   "id": "333cf54c",
   "metadata": {},
   "outputs": [
    {
     "data": {
      "text/plain": [
       "False"
      ]
     },
     "execution_count": 33,
     "metadata": {},
     "output_type": "execute_result"
    }
   ],
   "source": [
    "df_ord_product.duplicated().any()"
   ]
  },
  {
   "cell_type": "code",
   "execution_count": 34,
   "id": "653b1e5a",
   "metadata": {},
   "outputs": [
    {
     "name": "stdout",
     "output_type": "stream",
     "text": [
      "<class 'pandas.core.frame.DataFrame'>\n",
      "RangeIndex: 3095 entries, 0 to 3094\n",
      "Data columns (total 4 columns):\n",
      " #   Column                  Non-Null Count  Dtype \n",
      "---  ------                  --------------  ----- \n",
      " 0   seller_id               3095 non-null   object\n",
      " 1   seller_zip_code_prefix  3095 non-null   int64 \n",
      " 2   seller_city             3095 non-null   object\n",
      " 3   seller_state            3095 non-null   object\n",
      "dtypes: int64(1), object(3)\n",
      "memory usage: 96.8+ KB\n"
     ]
    }
   ],
   "source": [
    "df_sellers.info()"
   ]
  },
  {
   "cell_type": "code",
   "execution_count": 35,
   "id": "2d63b3ca",
   "metadata": {},
   "outputs": [
    {
     "data": {
      "text/plain": [
       "False"
      ]
     },
     "execution_count": 35,
     "metadata": {},
     "output_type": "execute_result"
    }
   ],
   "source": [
    "df_sellers.duplicated().any()"
   ]
  },
  {
   "cell_type": "code",
   "execution_count": 36,
   "id": "ffc0c895",
   "metadata": {},
   "outputs": [
    {
     "name": "stdout",
     "output_type": "stream",
     "text": [
      "<class 'pandas.core.frame.DataFrame'>\n",
      "RangeIndex: 71 entries, 0 to 70\n",
      "Data columns (total 2 columns):\n",
      " #   Column                         Non-Null Count  Dtype \n",
      "---  ------                         --------------  ----- \n",
      " 0   product_category_name          71 non-null     object\n",
      " 1   product_category_name_english  71 non-null     object\n",
      "dtypes: object(2)\n",
      "memory usage: 1.2+ KB\n"
     ]
    }
   ],
   "source": [
    "df_prod_cat.info()"
   ]
  },
  {
   "cell_type": "code",
   "execution_count": 37,
   "id": "55ac17e2",
   "metadata": {},
   "outputs": [
    {
     "data": {
      "text/plain": [
       "False"
      ]
     },
     "execution_count": 37,
     "metadata": {},
     "output_type": "execute_result"
    }
   ],
   "source": [
    "df_prod_cat.duplicated().any()"
   ]
  },
  {
   "cell_type": "markdown",
   "id": "2bd80bb7",
   "metadata": {},
   "source": [
    "# dataset merged."
   ]
  },
  {
   "cell_type": "code",
   "execution_count": 38,
   "id": "5ace2806",
   "metadata": {},
   "outputs": [],
   "source": [
    "df_1 = pd.merge(df_cust, df_ord_data, how='left', on='customer_id')"
   ]
  },
  {
   "cell_type": "code",
   "execution_count": 39,
   "id": "23da0c36",
   "metadata": {},
   "outputs": [
    {
     "data": {
      "text/plain": [
       "False"
      ]
     },
     "execution_count": 39,
     "metadata": {},
     "output_type": "execute_result"
    }
   ],
   "source": [
    "df_1.duplicated().any()"
   ]
  },
  {
   "cell_type": "code",
   "execution_count": 40,
   "id": "2abd421f",
   "metadata": {},
   "outputs": [
    {
     "name": "stdout",
     "output_type": "stream",
     "text": [
      "<class 'pandas.core.frame.DataFrame'>\n",
      "Int64Index: 99441 entries, 0 to 99440\n",
      "Data columns (total 12 columns):\n",
      " #   Column                         Non-Null Count  Dtype \n",
      "---  ------                         --------------  ----- \n",
      " 0   customer_id                    99441 non-null  object\n",
      " 1   customer_unique_id             99441 non-null  object\n",
      " 2   customer_zip_code_prefix       99441 non-null  int64 \n",
      " 3   customer_city                  99441 non-null  object\n",
      " 4   customer_state                 99441 non-null  object\n",
      " 5   order_id                       99441 non-null  object\n",
      " 6   order_status                   99441 non-null  object\n",
      " 7   order_purchase_timestamp       99441 non-null  object\n",
      " 8   order_approved_at              99281 non-null  object\n",
      " 9   order_delivered_carrier_date   97658 non-null  object\n",
      " 10  order_delivered_customer_date  96476 non-null  object\n",
      " 11  order_estimated_delivery_date  99441 non-null  object\n",
      "dtypes: int64(1), object(11)\n",
      "memory usage: 9.9+ MB\n"
     ]
    }
   ],
   "source": [
    "df_1.info()"
   ]
  },
  {
   "cell_type": "code",
   "execution_count": 41,
   "id": "ceda21e1",
   "metadata": {},
   "outputs": [],
   "source": [
    "df_2 = pd.merge(df_1, df_ord_pay, how='left', on='order_id')"
   ]
  },
  {
   "cell_type": "code",
   "execution_count": 42,
   "id": "70ce85ed",
   "metadata": {},
   "outputs": [
    {
     "data": {
      "text/plain": [
       "False"
      ]
     },
     "execution_count": 42,
     "metadata": {},
     "output_type": "execute_result"
    }
   ],
   "source": [
    "df_2.duplicated().any()"
   ]
  },
  {
   "cell_type": "code",
   "execution_count": 43,
   "id": "7f831d4b",
   "metadata": {},
   "outputs": [
    {
     "name": "stdout",
     "output_type": "stream",
     "text": [
      "<class 'pandas.core.frame.DataFrame'>\n",
      "Int64Index: 103887 entries, 0 to 103886\n",
      "Data columns (total 16 columns):\n",
      " #   Column                         Non-Null Count   Dtype  \n",
      "---  ------                         --------------   -----  \n",
      " 0   customer_id                    103887 non-null  object \n",
      " 1   customer_unique_id             103887 non-null  object \n",
      " 2   customer_zip_code_prefix       103887 non-null  int64  \n",
      " 3   customer_city                  103887 non-null  object \n",
      " 4   customer_state                 103887 non-null  object \n",
      " 5   order_id                       103887 non-null  object \n",
      " 6   order_status                   103887 non-null  object \n",
      " 7   order_purchase_timestamp       103887 non-null  object \n",
      " 8   order_approved_at              103712 non-null  object \n",
      " 9   order_delivered_carrier_date   101999 non-null  object \n",
      " 10  order_delivered_customer_date  100755 non-null  object \n",
      " 11  order_estimated_delivery_date  103887 non-null  object \n",
      " 12  payment_sequential             103886 non-null  float64\n",
      " 13  payment_type                   103886 non-null  object \n",
      " 14  payment_installments           103886 non-null  float64\n",
      " 15  payment_value                  103886 non-null  float64\n",
      "dtypes: float64(3), int64(1), object(12)\n",
      "memory usage: 13.5+ MB\n"
     ]
    }
   ],
   "source": [
    "df_2.info()"
   ]
  },
  {
   "cell_type": "code",
   "execution_count": 44,
   "id": "54db66b8",
   "metadata": {},
   "outputs": [],
   "source": [
    "df_3 = pd.merge(df_2, df_ord_items, how='left', on='order_id')"
   ]
  },
  {
   "cell_type": "code",
   "execution_count": 45,
   "id": "42b23c2f",
   "metadata": {},
   "outputs": [
    {
     "data": {
      "text/plain": [
       "False"
      ]
     },
     "execution_count": 45,
     "metadata": {},
     "output_type": "execute_result"
    }
   ],
   "source": [
    "df_3.duplicated().any()"
   ]
  },
  {
   "cell_type": "code",
   "execution_count": 46,
   "id": "d9fe1598",
   "metadata": {},
   "outputs": [
    {
     "name": "stdout",
     "output_type": "stream",
     "text": [
      "<class 'pandas.core.frame.DataFrame'>\n",
      "Int64Index: 118434 entries, 0 to 118433\n",
      "Data columns (total 22 columns):\n",
      " #   Column                         Non-Null Count   Dtype  \n",
      "---  ------                         --------------   -----  \n",
      " 0   customer_id                    118434 non-null  object \n",
      " 1   customer_unique_id             118434 non-null  object \n",
      " 2   customer_zip_code_prefix       118434 non-null  int64  \n",
      " 3   customer_city                  118434 non-null  object \n",
      " 4   customer_state                 118434 non-null  object \n",
      " 5   order_id                       118434 non-null  object \n",
      " 6   order_status                   118434 non-null  object \n",
      " 7   order_purchase_timestamp       118434 non-null  object \n",
      " 8   order_approved_at              118258 non-null  object \n",
      " 9   order_delivered_carrier_date   116360 non-null  object \n",
      " 10  order_delivered_customer_date  115037 non-null  object \n",
      " 11  order_estimated_delivery_date  118434 non-null  object \n",
      " 12  payment_sequential             118431 non-null  float64\n",
      " 13  payment_type                   118431 non-null  object \n",
      " 14  payment_installments           118431 non-null  float64\n",
      " 15  payment_value                  118431 non-null  float64\n",
      " 16  order_item_id                  117604 non-null  float64\n",
      " 17  product_id                     117604 non-null  object \n",
      " 18  seller_id                      117604 non-null  object \n",
      " 19  shipping_limit_date            117604 non-null  object \n",
      " 20  price                          117604 non-null  float64\n",
      " 21  freight_value                  117604 non-null  float64\n",
      "dtypes: float64(6), int64(1), object(15)\n",
      "memory usage: 20.8+ MB\n"
     ]
    }
   ],
   "source": [
    "df_3.info()"
   ]
  },
  {
   "cell_type": "code",
   "execution_count": 47,
   "id": "9f3483d8",
   "metadata": {},
   "outputs": [],
   "source": [
    "df_4 = pd.merge(df_3, df_ord_product, how='left', on='product_id')"
   ]
  },
  {
   "cell_type": "code",
   "execution_count": 48,
   "id": "a25fefaf",
   "metadata": {},
   "outputs": [
    {
     "data": {
      "text/plain": [
       "False"
      ]
     },
     "execution_count": 48,
     "metadata": {},
     "output_type": "execute_result"
    }
   ],
   "source": [
    "df_4.duplicated().any()"
   ]
  },
  {
   "cell_type": "code",
   "execution_count": 49,
   "id": "7cdaefff",
   "metadata": {},
   "outputs": [
    {
     "name": "stdout",
     "output_type": "stream",
     "text": [
      "<class 'pandas.core.frame.DataFrame'>\n",
      "Int64Index: 118434 entries, 0 to 118433\n",
      "Data columns (total 30 columns):\n",
      " #   Column                         Non-Null Count   Dtype  \n",
      "---  ------                         --------------   -----  \n",
      " 0   customer_id                    118434 non-null  object \n",
      " 1   customer_unique_id             118434 non-null  object \n",
      " 2   customer_zip_code_prefix       118434 non-null  int64  \n",
      " 3   customer_city                  118434 non-null  object \n",
      " 4   customer_state                 118434 non-null  object \n",
      " 5   order_id                       118434 non-null  object \n",
      " 6   order_status                   118434 non-null  object \n",
      " 7   order_purchase_timestamp       118434 non-null  object \n",
      " 8   order_approved_at              118258 non-null  object \n",
      " 9   order_delivered_carrier_date   116360 non-null  object \n",
      " 10  order_delivered_customer_date  115037 non-null  object \n",
      " 11  order_estimated_delivery_date  118434 non-null  object \n",
      " 12  payment_sequential             118431 non-null  float64\n",
      " 13  payment_type                   118431 non-null  object \n",
      " 14  payment_installments           118431 non-null  float64\n",
      " 15  payment_value                  118431 non-null  float64\n",
      " 16  order_item_id                  117604 non-null  float64\n",
      " 17  product_id                     117604 non-null  object \n",
      " 18  seller_id                      117604 non-null  object \n",
      " 19  shipping_limit_date            117604 non-null  object \n",
      " 20  price                          117604 non-null  float64\n",
      " 21  freight_value                  117604 non-null  float64\n",
      " 22  product_category_name          115906 non-null  object \n",
      " 23  product_name_lenght            115906 non-null  float64\n",
      " 24  product_description_lenght     115906 non-null  float64\n",
      " 25  product_photos_qty             115906 non-null  float64\n",
      " 26  product_weight_g               117584 non-null  float64\n",
      " 27  product_length_cm              117584 non-null  float64\n",
      " 28  product_height_cm              117584 non-null  float64\n",
      " 29  product_width_cm               117584 non-null  float64\n",
      "dtypes: float64(13), int64(1), object(16)\n",
      "memory usage: 28.0+ MB\n"
     ]
    }
   ],
   "source": [
    "df_4.info()"
   ]
  },
  {
   "cell_type": "code",
   "execution_count": 50,
   "id": "35f66e33",
   "metadata": {},
   "outputs": [],
   "source": [
    "df_5 = pd.merge(df_4, df_prod_cat, how='left', on='product_category_name')"
   ]
  },
  {
   "cell_type": "code",
   "execution_count": 51,
   "id": "2e9e4716",
   "metadata": {},
   "outputs": [
    {
     "data": {
      "text/plain": [
       "False"
      ]
     },
     "execution_count": 51,
     "metadata": {},
     "output_type": "execute_result"
    }
   ],
   "source": [
    "df_5.duplicated().any()"
   ]
  },
  {
   "cell_type": "code",
   "execution_count": 52,
   "id": "190b1bc6",
   "metadata": {},
   "outputs": [
    {
     "name": "stdout",
     "output_type": "stream",
     "text": [
      "<class 'pandas.core.frame.DataFrame'>\n",
      "Int64Index: 118434 entries, 0 to 118433\n",
      "Data columns (total 31 columns):\n",
      " #   Column                         Non-Null Count   Dtype  \n",
      "---  ------                         --------------   -----  \n",
      " 0   customer_id                    118434 non-null  object \n",
      " 1   customer_unique_id             118434 non-null  object \n",
      " 2   customer_zip_code_prefix       118434 non-null  int64  \n",
      " 3   customer_city                  118434 non-null  object \n",
      " 4   customer_state                 118434 non-null  object \n",
      " 5   order_id                       118434 non-null  object \n",
      " 6   order_status                   118434 non-null  object \n",
      " 7   order_purchase_timestamp       118434 non-null  object \n",
      " 8   order_approved_at              118258 non-null  object \n",
      " 9   order_delivered_carrier_date   116360 non-null  object \n",
      " 10  order_delivered_customer_date  115037 non-null  object \n",
      " 11  order_estimated_delivery_date  118434 non-null  object \n",
      " 12  payment_sequential             118431 non-null  float64\n",
      " 13  payment_type                   118431 non-null  object \n",
      " 14  payment_installments           118431 non-null  float64\n",
      " 15  payment_value                  118431 non-null  float64\n",
      " 16  order_item_id                  117604 non-null  float64\n",
      " 17  product_id                     117604 non-null  object \n",
      " 18  seller_id                      117604 non-null  object \n",
      " 19  shipping_limit_date            117604 non-null  object \n",
      " 20  price                          117604 non-null  float64\n",
      " 21  freight_value                  117604 non-null  float64\n",
      " 22  product_category_name          115906 non-null  object \n",
      " 23  product_name_lenght            115906 non-null  float64\n",
      " 24  product_description_lenght     115906 non-null  float64\n",
      " 25  product_photos_qty             115906 non-null  float64\n",
      " 26  product_weight_g               117584 non-null  float64\n",
      " 27  product_length_cm              117584 non-null  float64\n",
      " 28  product_height_cm              117584 non-null  float64\n",
      " 29  product_width_cm               117584 non-null  float64\n",
      " 30  product_category_name_english  115881 non-null  object \n",
      "dtypes: float64(13), int64(1), object(17)\n",
      "memory usage: 28.9+ MB\n"
     ]
    }
   ],
   "source": [
    "df_5.info()"
   ]
  },
  {
   "cell_type": "code",
   "execution_count": 53,
   "id": "6d27ea3b",
   "metadata": {},
   "outputs": [],
   "source": [
    "df_6 = pd.merge(df_5, df_geo_restated, how='left', left_on='customer_zip_code_prefix',\n",
    "               right_on='geolocation_zip_code_prefix')"
   ]
  },
  {
   "cell_type": "code",
   "execution_count": 54,
   "id": "11698638",
   "metadata": {},
   "outputs": [
    {
     "data": {
      "text/plain": [
       "False"
      ]
     },
     "execution_count": 54,
     "metadata": {},
     "output_type": "execute_result"
    }
   ],
   "source": [
    "df_6.duplicated().any()"
   ]
  },
  {
   "cell_type": "code",
   "execution_count": 55,
   "id": "bb18e963",
   "metadata": {
    "scrolled": true
   },
   "outputs": [
    {
     "name": "stdout",
     "output_type": "stream",
     "text": [
      "<class 'pandas.core.frame.DataFrame'>\n",
      "Int64Index: 118434 entries, 0 to 118433\n",
      "Data columns (total 34 columns):\n",
      " #   Column                         Non-Null Count   Dtype  \n",
      "---  ------                         --------------   -----  \n",
      " 0   customer_id                    118434 non-null  object \n",
      " 1   customer_unique_id             118434 non-null  object \n",
      " 2   customer_zip_code_prefix       118434 non-null  int64  \n",
      " 3   customer_city                  118434 non-null  object \n",
      " 4   customer_state                 118434 non-null  object \n",
      " 5   order_id                       118434 non-null  object \n",
      " 6   order_status                   118434 non-null  object \n",
      " 7   order_purchase_timestamp       118434 non-null  object \n",
      " 8   order_approved_at              118258 non-null  object \n",
      " 9   order_delivered_carrier_date   116360 non-null  object \n",
      " 10  order_delivered_customer_date  115037 non-null  object \n",
      " 11  order_estimated_delivery_date  118434 non-null  object \n",
      " 12  payment_sequential             118431 non-null  float64\n",
      " 13  payment_type                   118431 non-null  object \n",
      " 14  payment_installments           118431 non-null  float64\n",
      " 15  payment_value                  118431 non-null  float64\n",
      " 16  order_item_id                  117604 non-null  float64\n",
      " 17  product_id                     117604 non-null  object \n",
      " 18  seller_id                      117604 non-null  object \n",
      " 19  shipping_limit_date            117604 non-null  object \n",
      " 20  price                          117604 non-null  float64\n",
      " 21  freight_value                  117604 non-null  float64\n",
      " 22  product_category_name          115906 non-null  object \n",
      " 23  product_name_lenght            115906 non-null  float64\n",
      " 24  product_description_lenght     115906 non-null  float64\n",
      " 25  product_photos_qty             115906 non-null  float64\n",
      " 26  product_weight_g               117584 non-null  float64\n",
      " 27  product_length_cm              117584 non-null  float64\n",
      " 28  product_height_cm              117584 non-null  float64\n",
      " 29  product_width_cm               117584 non-null  float64\n",
      " 30  product_category_name_english  115881 non-null  object \n",
      " 31  geolocation_zip_code_prefix    118117 non-null  float64\n",
      " 32  geolocation_city               118117 non-null  object \n",
      " 33  geolocation_state              118117 non-null  object \n",
      "dtypes: float64(14), int64(1), object(19)\n",
      "memory usage: 31.6+ MB\n"
     ]
    }
   ],
   "source": [
    "df_6.info()"
   ]
  },
  {
   "cell_type": "code",
   "execution_count": 56,
   "id": "cf38e053",
   "metadata": {},
   "outputs": [],
   "source": [
    "df_data = pd.merge(df_6, df_ord_rev,how='left', on='order_id')"
   ]
  },
  {
   "cell_type": "code",
   "execution_count": 57,
   "id": "a5f1d19f",
   "metadata": {},
   "outputs": [
    {
     "data": {
      "text/plain": [
       "False"
      ]
     },
     "execution_count": 57,
     "metadata": {},
     "output_type": "execute_result"
    }
   ],
   "source": [
    "df_data.duplicated().any()"
   ]
  },
  {
   "cell_type": "code",
   "execution_count": 58,
   "id": "947e6f27",
   "metadata": {},
   "outputs": [
    {
     "name": "stdout",
     "output_type": "stream",
     "text": [
      "<class 'pandas.core.frame.DataFrame'>\n",
      "Int64Index: 119143 entries, 0 to 119142\n",
      "Data columns (total 40 columns):\n",
      " #   Column                         Non-Null Count   Dtype  \n",
      "---  ------                         --------------   -----  \n",
      " 0   customer_id                    119143 non-null  object \n",
      " 1   customer_unique_id             119143 non-null  object \n",
      " 2   customer_zip_code_prefix       119143 non-null  int64  \n",
      " 3   customer_city                  119143 non-null  object \n",
      " 4   customer_state                 119143 non-null  object \n",
      " 5   order_id                       119143 non-null  object \n",
      " 6   order_status                   119143 non-null  object \n",
      " 7   order_purchase_timestamp       119143 non-null  object \n",
      " 8   order_approved_at              118966 non-null  object \n",
      " 9   order_delivered_carrier_date   117057 non-null  object \n",
      " 10  order_delivered_customer_date  115722 non-null  object \n",
      " 11  order_estimated_delivery_date  119143 non-null  object \n",
      " 12  payment_sequential             119140 non-null  float64\n",
      " 13  payment_type                   119140 non-null  object \n",
      " 14  payment_installments           119140 non-null  float64\n",
      " 15  payment_value                  119140 non-null  float64\n",
      " 16  order_item_id                  118310 non-null  float64\n",
      " 17  product_id                     118310 non-null  object \n",
      " 18  seller_id                      118310 non-null  object \n",
      " 19  shipping_limit_date            118310 non-null  object \n",
      " 20  price                          118310 non-null  float64\n",
      " 21  freight_value                  118310 non-null  float64\n",
      " 22  product_category_name          116601 non-null  object \n",
      " 23  product_name_lenght            116601 non-null  float64\n",
      " 24  product_description_lenght     116601 non-null  float64\n",
      " 25  product_photos_qty             116601 non-null  float64\n",
      " 26  product_weight_g               118290 non-null  float64\n",
      " 27  product_length_cm              118290 non-null  float64\n",
      " 28  product_height_cm              118290 non-null  float64\n",
      " 29  product_width_cm               118290 non-null  float64\n",
      " 30  product_category_name_english  116576 non-null  object \n",
      " 31  geolocation_zip_code_prefix    118821 non-null  float64\n",
      " 32  geolocation_city               118821 non-null  object \n",
      " 33  geolocation_state              118821 non-null  object \n",
      " 34  review_id                      118146 non-null  object \n",
      " 35  review_score                   118146 non-null  float64\n",
      " 36  review_comment_title           13989 non-null   object \n",
      " 37  review_comment_message         50245 non-null   object \n",
      " 38  review_creation_date           118146 non-null  object \n",
      " 39  review_answer_timestamp        118146 non-null  object \n",
      "dtypes: float64(15), int64(1), object(24)\n",
      "memory usage: 37.3+ MB\n"
     ]
    }
   ],
   "source": [
    "df_data.info()"
   ]
  },
  {
   "cell_type": "code",
   "execution_count": 59,
   "id": "8bf25d1f",
   "metadata": {},
   "outputs": [
    {
     "data": {
      "text/html": [
       "<div>\n",
       "<style scoped>\n",
       "    .dataframe tbody tr th:only-of-type {\n",
       "        vertical-align: middle;\n",
       "    }\n",
       "\n",
       "    .dataframe tbody tr th {\n",
       "        vertical-align: top;\n",
       "    }\n",
       "\n",
       "    .dataframe thead th {\n",
       "        text-align: right;\n",
       "    }\n",
       "</style>\n",
       "<table border=\"1\" class=\"dataframe\">\n",
       "  <thead>\n",
       "    <tr style=\"text-align: right;\">\n",
       "      <th></th>\n",
       "      <th>customer_id</th>\n",
       "      <th>customer_unique_id</th>\n",
       "      <th>customer_zip_code_prefix</th>\n",
       "      <th>customer_city</th>\n",
       "      <th>customer_state</th>\n",
       "      <th>order_id</th>\n",
       "      <th>order_status</th>\n",
       "      <th>order_purchase_timestamp</th>\n",
       "      <th>order_approved_at</th>\n",
       "      <th>order_delivered_carrier_date</th>\n",
       "      <th>...</th>\n",
       "      <th>product_category_name_english</th>\n",
       "      <th>geolocation_zip_code_prefix</th>\n",
       "      <th>geolocation_city</th>\n",
       "      <th>geolocation_state</th>\n",
       "      <th>review_id</th>\n",
       "      <th>review_score</th>\n",
       "      <th>review_comment_title</th>\n",
       "      <th>review_comment_message</th>\n",
       "      <th>review_creation_date</th>\n",
       "      <th>review_answer_timestamp</th>\n",
       "    </tr>\n",
       "  </thead>\n",
       "  <tbody>\n",
       "    <tr>\n",
       "      <th>0</th>\n",
       "      <td>06b8999e2fba1a1fbc88172c00ba8bc7</td>\n",
       "      <td>861eff4711a542e4b93843c6dd7febb0</td>\n",
       "      <td>14409</td>\n",
       "      <td>franca</td>\n",
       "      <td>SP</td>\n",
       "      <td>00e7ee1b050b8499577073aeb2a297a1</td>\n",
       "      <td>delivered</td>\n",
       "      <td>2017-05-16 15:05:35</td>\n",
       "      <td>2017-05-16 15:22:12</td>\n",
       "      <td>2017-05-23 10:47:57</td>\n",
       "      <td>...</td>\n",
       "      <td>office_furniture</td>\n",
       "      <td>14409.0</td>\n",
       "      <td>franca</td>\n",
       "      <td>SP</td>\n",
       "      <td>88b8b52d46df026a9d1ad2136a59b30b</td>\n",
       "      <td>4.0</td>\n",
       "      <td>NaN</td>\n",
       "      <td>NaN</td>\n",
       "      <td>2017-05-26 00:00:00</td>\n",
       "      <td>2017-05-30 22:34:40</td>\n",
       "    </tr>\n",
       "    <tr>\n",
       "      <th>1</th>\n",
       "      <td>18955e83d337fd6b2def6b18a428ac77</td>\n",
       "      <td>290c77bc529b7ac935b93aa66c333dc3</td>\n",
       "      <td>9790</td>\n",
       "      <td>sao bernardo do campo</td>\n",
       "      <td>SP</td>\n",
       "      <td>29150127e6685892b6eab3eec79f59c7</td>\n",
       "      <td>delivered</td>\n",
       "      <td>2018-01-12 20:48:24</td>\n",
       "      <td>2018-01-12 20:58:32</td>\n",
       "      <td>2018-01-15 17:14:59</td>\n",
       "      <td>...</td>\n",
       "      <td>housewares</td>\n",
       "      <td>9790.0</td>\n",
       "      <td>sao bernardo do campo</td>\n",
       "      <td>SP</td>\n",
       "      <td>02fc48a9efa3e3d0f1a8ea26507eeec3</td>\n",
       "      <td>5.0</td>\n",
       "      <td>NaN</td>\n",
       "      <td>NaN</td>\n",
       "      <td>2018-01-30 00:00:00</td>\n",
       "      <td>2018-02-10 22:43:29</td>\n",
       "    </tr>\n",
       "    <tr>\n",
       "      <th>2</th>\n",
       "      <td>4e7b3e00288586ebd08712fdd0374a03</td>\n",
       "      <td>060e732b5b29e8181a18229c7b0b2b5e</td>\n",
       "      <td>1151</td>\n",
       "      <td>sao paulo</td>\n",
       "      <td>SP</td>\n",
       "      <td>b2059ed67ce144a36e2aa97d2c9e9ad2</td>\n",
       "      <td>delivered</td>\n",
       "      <td>2018-05-19 16:07:45</td>\n",
       "      <td>2018-05-20 16:19:10</td>\n",
       "      <td>2018-06-11 14:31:00</td>\n",
       "      <td>...</td>\n",
       "      <td>office_furniture</td>\n",
       "      <td>1151.0</td>\n",
       "      <td>sao paulo</td>\n",
       "      <td>SP</td>\n",
       "      <td>5ad6695d76ee186dc473c42706984d87</td>\n",
       "      <td>5.0</td>\n",
       "      <td>NaN</td>\n",
       "      <td>NaN</td>\n",
       "      <td>2018-06-15 00:00:00</td>\n",
       "      <td>2018-06-15 12:10:59</td>\n",
       "    </tr>\n",
       "  </tbody>\n",
       "</table>\n",
       "<p>3 rows × 40 columns</p>\n",
       "</div>"
      ],
      "text/plain": [
       "                        customer_id                customer_unique_id  \\\n",
       "0  06b8999e2fba1a1fbc88172c00ba8bc7  861eff4711a542e4b93843c6dd7febb0   \n",
       "1  18955e83d337fd6b2def6b18a428ac77  290c77bc529b7ac935b93aa66c333dc3   \n",
       "2  4e7b3e00288586ebd08712fdd0374a03  060e732b5b29e8181a18229c7b0b2b5e   \n",
       "\n",
       "   customer_zip_code_prefix          customer_city customer_state  \\\n",
       "0                     14409                 franca             SP   \n",
       "1                      9790  sao bernardo do campo             SP   \n",
       "2                      1151              sao paulo             SP   \n",
       "\n",
       "                           order_id order_status order_purchase_timestamp  \\\n",
       "0  00e7ee1b050b8499577073aeb2a297a1    delivered      2017-05-16 15:05:35   \n",
       "1  29150127e6685892b6eab3eec79f59c7    delivered      2018-01-12 20:48:24   \n",
       "2  b2059ed67ce144a36e2aa97d2c9e9ad2    delivered      2018-05-19 16:07:45   \n",
       "\n",
       "     order_approved_at order_delivered_carrier_date  ...  \\\n",
       "0  2017-05-16 15:22:12          2017-05-23 10:47:57  ...   \n",
       "1  2018-01-12 20:58:32          2018-01-15 17:14:59  ...   \n",
       "2  2018-05-20 16:19:10          2018-06-11 14:31:00  ...   \n",
       "\n",
       "  product_category_name_english geolocation_zip_code_prefix  \\\n",
       "0              office_furniture                     14409.0   \n",
       "1                    housewares                      9790.0   \n",
       "2              office_furniture                      1151.0   \n",
       "\n",
       "        geolocation_city geolocation_state                         review_id  \\\n",
       "0                 franca                SP  88b8b52d46df026a9d1ad2136a59b30b   \n",
       "1  sao bernardo do campo                SP  02fc48a9efa3e3d0f1a8ea26507eeec3   \n",
       "2              sao paulo                SP  5ad6695d76ee186dc473c42706984d87   \n",
       "\n",
       "   review_score  review_comment_title review_comment_message  \\\n",
       "0           4.0                   NaN                    NaN   \n",
       "1           5.0                   NaN                    NaN   \n",
       "2           5.0                   NaN                    NaN   \n",
       "\n",
       "  review_creation_date review_answer_timestamp  \n",
       "0  2017-05-26 00:00:00     2017-05-30 22:34:40  \n",
       "1  2018-01-30 00:00:00     2018-02-10 22:43:29  \n",
       "2  2018-06-15 00:00:00     2018-06-15 12:10:59  \n",
       "\n",
       "[3 rows x 40 columns]"
      ]
     },
     "execution_count": 59,
     "metadata": {},
     "output_type": "execute_result"
    }
   ],
   "source": [
    "df_data.head(3)"
   ]
  },
  {
   "cell_type": "markdown",
   "id": "cd0e51e2",
   "metadata": {},
   "source": [
    "## Observation des valeurs manquantes et conversion formats de données."
   ]
  },
  {
   "cell_type": "code",
   "execution_count": 60,
   "id": "c0e4d46a",
   "metadata": {},
   "outputs": [
    {
     "data": {
      "text/plain": [
       "customer_id                       0.000000\n",
       "customer_unique_id                0.000000\n",
       "customer_zip_code_prefix          0.000000\n",
       "customer_city                     0.000000\n",
       "customer_state                    0.000000\n",
       "order_id                          0.000000\n",
       "order_status                      0.000000\n",
       "order_purchase_timestamp          0.000000\n",
       "order_approved_at                 0.148561\n",
       "order_delivered_carrier_date      1.750837\n",
       "order_delivered_customer_date     2.871339\n",
       "order_estimated_delivery_date     0.000000\n",
       "payment_sequential                0.002518\n",
       "payment_type                      0.002518\n",
       "payment_installments              0.002518\n",
       "payment_value                     0.002518\n",
       "order_item_id                     0.699160\n",
       "product_id                        0.699160\n",
       "seller_id                         0.699160\n",
       "shipping_limit_date               0.699160\n",
       "price                             0.699160\n",
       "freight_value                     0.699160\n",
       "product_category_name             2.133571\n",
       "product_name_lenght               2.133571\n",
       "product_description_lenght        2.133571\n",
       "product_photos_qty                2.133571\n",
       "product_weight_g                  0.715946\n",
       "product_length_cm                 0.715946\n",
       "product_height_cm                 0.715946\n",
       "product_width_cm                  0.715946\n",
       "product_category_name_english     2.154554\n",
       "geolocation_zip_code_prefix       0.270263\n",
       "geolocation_city                  0.270263\n",
       "geolocation_state                 0.270263\n",
       "review_id                         0.836810\n",
       "review_score                      0.836810\n",
       "review_comment_title             88.258647\n",
       "review_comment_message           57.827988\n",
       "review_creation_date              0.836810\n",
       "review_answer_timestamp           0.836810\n",
       "dtype: float64"
      ]
     },
     "execution_count": 60,
     "metadata": {},
     "output_type": "execute_result"
    }
   ],
   "source": [
    "df_data.isnull().mean()*100"
   ]
  },
  {
   "cell_type": "code",
   "execution_count": 61,
   "id": "caa5158d",
   "metadata": {},
   "outputs": [],
   "source": [
    "# Conversion format string en format date\n",
    "\n",
    "cols = ['order_purchase_timestamp',\n",
    "        'order_approved_at',\n",
    "        'order_delivered_carrier_date',\n",
    "        'order_delivered_customer_date',\n",
    "        'order_estimated_delivery_date',\n",
    "       'shipping_limit_date',\n",
    "        'review_creation_date',\n",
    "        'review_answer_timestamp']\n",
    "\n",
    "for col in cols:\n",
    "    df_data[col] = pd.to_datetime(df_data.loc[:,col], format='%Y-%m-%d %H:%M:%S')\n"
   ]
  },
  {
   "cell_type": "code",
   "execution_count": 62,
   "id": "e16bb34a",
   "metadata": {},
   "outputs": [],
   "source": [
    "# Conversion format float et int en string.\n",
    "\n",
    "df_data[['customer_zip_code_prefix',\n",
    "         'geolocation_zip_code_prefix',\n",
    "         'order_item_id']] = df_data[['customer_zip_code_prefix',\n",
    "                                      'geolocation_zip_code_prefix',\n",
    "                                      'order_item_id']].astype(str)\n",
    "\n"
   ]
  },
  {
   "cell_type": "code",
   "execution_count": 63,
   "id": "98a38b3d",
   "metadata": {
    "scrolled": false
   },
   "outputs": [
    {
     "name": "stdout",
     "output_type": "stream",
     "text": [
      "<class 'pandas.core.frame.DataFrame'>\n",
      "Int64Index: 119143 entries, 0 to 119142\n",
      "Data columns (total 40 columns):\n",
      " #   Column                         Non-Null Count   Dtype         \n",
      "---  ------                         --------------   -----         \n",
      " 0   customer_id                    119143 non-null  object        \n",
      " 1   customer_unique_id             119143 non-null  object        \n",
      " 2   customer_zip_code_prefix       119143 non-null  object        \n",
      " 3   customer_city                  119143 non-null  object        \n",
      " 4   customer_state                 119143 non-null  object        \n",
      " 5   order_id                       119143 non-null  object        \n",
      " 6   order_status                   119143 non-null  object        \n",
      " 7   order_purchase_timestamp       119143 non-null  datetime64[ns]\n",
      " 8   order_approved_at              118966 non-null  datetime64[ns]\n",
      " 9   order_delivered_carrier_date   117057 non-null  datetime64[ns]\n",
      " 10  order_delivered_customer_date  115722 non-null  datetime64[ns]\n",
      " 11  order_estimated_delivery_date  119143 non-null  datetime64[ns]\n",
      " 12  payment_sequential             119140 non-null  float64       \n",
      " 13  payment_type                   119140 non-null  object        \n",
      " 14  payment_installments           119140 non-null  float64       \n",
      " 15  payment_value                  119140 non-null  float64       \n",
      " 16  order_item_id                  119143 non-null  object        \n",
      " 17  product_id                     118310 non-null  object        \n",
      " 18  seller_id                      118310 non-null  object        \n",
      " 19  shipping_limit_date            118310 non-null  datetime64[ns]\n",
      " 20  price                          118310 non-null  float64       \n",
      " 21  freight_value                  118310 non-null  float64       \n",
      " 22  product_category_name          116601 non-null  object        \n",
      " 23  product_name_lenght            116601 non-null  float64       \n",
      " 24  product_description_lenght     116601 non-null  float64       \n",
      " 25  product_photos_qty             116601 non-null  float64       \n",
      " 26  product_weight_g               118290 non-null  float64       \n",
      " 27  product_length_cm              118290 non-null  float64       \n",
      " 28  product_height_cm              118290 non-null  float64       \n",
      " 29  product_width_cm               118290 non-null  float64       \n",
      " 30  product_category_name_english  116576 non-null  object        \n",
      " 31  geolocation_zip_code_prefix    119143 non-null  object        \n",
      " 32  geolocation_city               118821 non-null  object        \n",
      " 33  geolocation_state              118821 non-null  object        \n",
      " 34  review_id                      118146 non-null  object        \n",
      " 35  review_score                   118146 non-null  float64       \n",
      " 36  review_comment_title           13989 non-null   object        \n",
      " 37  review_comment_message         50245 non-null   object        \n",
      " 38  review_creation_date           118146 non-null  datetime64[ns]\n",
      " 39  review_answer_timestamp        118146 non-null  datetime64[ns]\n",
      "dtypes: datetime64[ns](8), float64(13), object(19)\n",
      "memory usage: 37.3+ MB\n"
     ]
    }
   ],
   "source": [
    "df_data.info()"
   ]
  },
  {
   "cell_type": "markdown",
   "id": "4470a0e1",
   "metadata": {},
   "source": [
    "# Sales & orders."
   ]
  },
  {
   "cell_type": "markdown",
   "id": "de41ae89",
   "metadata": {},
   "source": [
    "## Total sales."
   ]
  },
  {
   "cell_type": "code",
   "execution_count": 64,
   "id": "44bed8be",
   "metadata": {},
   "outputs": [
    {
     "name": "stdout",
     "output_type": "stream",
     "text": [
      "20579664.0\n"
     ]
    }
   ],
   "source": [
    "d = {'payment_value': lambda payment_value: payment_value.sum()}\n",
    "\n",
    "sales_by_customer = df_data.groupby (['customer_id']).agg(d)\n",
    "\n",
    "total_sales = sales_by_customer['payment_value'].sum()\n",
    "print(round(total_sales, 0))"
   ]
  },
  {
   "cell_type": "code",
   "execution_count": 65,
   "id": "3f5de686",
   "metadata": {},
   "outputs": [],
   "source": [
    "# Les dix plus gros clients en CA sur toute la période.\n",
    "\n",
    "sales_top10 = sales_by_customer.sort_values(by='payment_value', ascending=False)\n"
   ]
  },
  {
   "cell_type": "code",
   "execution_count": 66,
   "id": "a70f264c",
   "metadata": {},
   "outputs": [],
   "source": [
    "sales_top10['sales_%_of_total'] = round(sales_top10['payment_value']/total_sales, 3)*100"
   ]
  },
  {
   "cell_type": "code",
   "execution_count": 67,
   "id": "ec53f9fe",
   "metadata": {},
   "outputs": [],
   "source": [
    "sales_top10.reset_index(inplace=True)\n",
    "#sales_top10[0:10]"
   ]
  },
  {
   "cell_type": "markdown",
   "id": "ad8d8e3b",
   "metadata": {},
   "source": [
    "## Total orders."
   ]
  },
  {
   "cell_type": "code",
   "execution_count": 68,
   "id": "0e7bdd03",
   "metadata": {},
   "outputs": [],
   "source": [
    "d_ = {'order_item_id': lambda order_item_id: order_item_id.count()}\n",
    "\n",
    "orders_top10 = df_data.groupby (['customer_id', 'order_id']).agg(d_)\n",
    "\n"
   ]
  },
  {
   "cell_type": "code",
   "execution_count": 69,
   "id": "22b7aa24",
   "metadata": {},
   "outputs": [],
   "source": [
    "orders_top10.sort_values('order_item_id', ascending=False, inplace=True)"
   ]
  },
  {
   "cell_type": "code",
   "execution_count": 70,
   "id": "7350bef5",
   "metadata": {},
   "outputs": [],
   "source": [
    "orders_top10.reset_index(inplace=True)\n",
    "#orders_top10[0:10]"
   ]
  },
  {
   "cell_type": "code",
   "execution_count": 71,
   "id": "22cb6bd7",
   "metadata": {},
   "outputs": [],
   "source": [
    "orders_top10 = orders_top10[['customer_id', 'order_item_id', 'order_id']]"
   ]
  },
  {
   "cell_type": "code",
   "execution_count": 72,
   "id": "aed5783c",
   "metadata": {},
   "outputs": [],
   "source": [
    "def display_sales(df1, df2):\n",
    "    l_ =[df1[0:20], df2[0:20]]\n",
    "    \n",
    "    fig, axes = plt.subplots(1,2, figsize = (7,4))\n",
    "    plt.tight_layout(pad = 3.0)\n",
    "    \n",
    "    for i, axes in enumerate(axes.flatten()):\n",
    "        data = l_[i]\n",
    "        \n",
    "        sns.barplot(x = l_[i].index,\n",
    "                   y = l_[i].iloc[:,1], ax = axes)\n",
    "        axes.set_xticklabels(l_[i].index, fontsize = 6, rotation = 45)\n",
    "        \n",
    "    fig.suptitle('Sales & Orders, first 20 customers')\n",
    "    plt.show()\n",
    "    return\n"
   ]
  },
  {
   "cell_type": "code",
   "execution_count": 73,
   "id": "361aaa03",
   "metadata": {},
   "outputs": [
    {
     "data": {
      "image/png": "[encoded data removed]",
      "text/plain": [
       "<Figure size 700x400 with 2 Axes>"
      ]
     },
     "metadata": {},
     "output_type": "display_data"
    }
   ],
   "source": [
    "display_sales(sales_top10, orders_top10)"
   ]
  },
  {
   "cell_type": "markdown",
   "id": "2501efa6",
   "metadata": {},
   "source": [
    "## Cumulative sales, orders."
   ]
  },
  {
   "cell_type": "code",
   "execution_count": 74,
   "id": "489af88d",
   "metadata": {},
   "outputs": [],
   "source": [
    "d = {'order_item_id': lambda item_id: item_id.count(),\n",
    "     'payment_value': lambda pay_value: pay_value.sum()}\n",
    "\n",
    "\n",
    "df_agg = df_data.groupby(['order_purchase_timestamp'], as_index = False).agg(d)\n",
    "\n",
    "df_agg['cum_sales'] = df_agg['payment_value'].cumsum(axis=0)\n",
    "#df_agg['cum_sales'] = np.log(df_agg['cum_sales'])\n",
    "\n",
    "df_agg['cum_orders'] = df_agg['order_item_id'].cumsum(axis=0)\n",
    "#df_agg['cum_orders'] = np.log(df_agg['cum_orders'])\n",
    "\n",
    "df_cum_sales = df_agg[['order_purchase_timestamp', 'cum_sales']]\n",
    "df_cum_orders = df_agg[['order_purchase_timestamp', 'cum_orders']]\n"
   ]
  },
  {
   "cell_type": "code",
   "execution_count": 75,
   "id": "ebdb68b7",
   "metadata": {},
   "outputs": [],
   "source": [
    "def display_cum_sales(df1, df2):\n",
    "    l_ = [df1, df2]\n",
    "    \n",
    "    fig, axes = plt.subplots(2,1, figsize = (8,6))\n",
    "    plt.tight_layout(pad = 3.0)\n",
    "    \n",
    "    for i, axes in enumerate(axes.flatten()):\n",
    "        data = l_[i]\n",
    "        \n",
    "        sns.lineplot(x = l_[i].iloc[:,0],\n",
    "                   y = l_[i].iloc[:,1], ax = axes)\n",
    "        #axes.set_xticklabels(labels=l_[i].iloc[:,0], fontsize= 7, rotation=45)\n",
    "        \n",
    "    fig.suptitle('Cumulative sales & orders')\n",
    "    plt.show()\n",
    "    return\n"
   ]
  },
  {
   "cell_type": "code",
   "execution_count": 76,
   "id": "aa173fe0",
   "metadata": {},
   "outputs": [
    {
     "data": {
      "image/png": "[encoded data removed]",
      "text/plain": [
       "<Figure size 800x600 with 2 Axes>"
      ]
     },
     "metadata": {},
     "output_type": "display_data"
    }
   ],
   "source": [
    "display_cum_sales(df_cum_sales, df_cum_orders)"
   ]
  },
  {
   "cell_type": "markdown",
   "id": "14e8c80d",
   "metadata": {},
   "source": [
    "# RFM method."
   ]
  },
  {
   "cell_type": "markdown",
   "id": "e597d753",
   "metadata": {},
   "source": [
    "## Calcul récence, fréquence, montant, estimated delivery date versus delivery."
   ]
  },
  {
   "cell_type": "markdown",
   "id": "b044a412",
   "metadata": {},
   "source": [
    "### Vérification duplications."
   ]
  },
  {
   "cell_type": "code",
   "execution_count": 77,
   "id": "9defb16d",
   "metadata": {},
   "outputs": [
    {
     "data": {
      "text/plain": [
       "False"
      ]
     },
     "execution_count": 77,
     "metadata": {},
     "output_type": "execute_result"
    }
   ],
   "source": [
    "df_data.duplicated().any()"
   ]
  },
  {
   "cell_type": "markdown",
   "id": "73e9dcb3",
   "metadata": {},
   "source": [
    "### Vérification, remplacement valeurs manquantes variables de dates."
   ]
  },
  {
   "cell_type": "code",
   "execution_count": 78,
   "id": "7c655bf8",
   "metadata": {},
   "outputs": [],
   "source": [
    "# Vérification, remplacement valeurs manquantes variables de dates.\n",
    "\n",
    "def missing_val(df):\n",
    "    col_name_1 = 'order_delivered_customer_date'\n",
    "    col_name_2 = 'order_estimated_delivery_date'\n",
    "    \n",
    "    \n",
    "    if df[col_name_1].isnull().any() == True:\n",
    "        df[col_name_1].isnull().mean()*100\n",
    "        df[col_name_1].fillna(df[col_name_1].median(), inplace = True)\n",
    "        \n",
    "        \n",
    "        \n",
    "    if df[col_name_2].isnull().any() == True:\n",
    "        df[col_name_2].isnull().mean()*100\n",
    "        df[col_name_2].fillna(df[col_name_2].median(), inplace = True)\n",
    "        \n",
    "        \n",
    "\n",
    "    return print(df_data['order_delivered_customer_date'].isnull().any()), print(df_data['order_estimated_delivery_date'].isnull().any())\n"
   ]
  },
  {
   "cell_type": "code",
   "execution_count": 79,
   "id": "7e069e0b",
   "metadata": {
    "scrolled": true
   },
   "outputs": [
    {
     "name": "stdout",
     "output_type": "stream",
     "text": [
      "False\n",
      "False\n"
     ]
    },
    {
     "data": {
      "text/plain": [
       "(None, None)"
      ]
     },
     "execution_count": 79,
     "metadata": {},
     "output_type": "execute_result"
    }
   ],
   "source": [
    "missing_val(df_data)"
   ]
  },
  {
   "cell_type": "markdown",
   "id": "1a11a0eb",
   "metadata": {},
   "source": [
    "## Vérifications présence valeurs pour sales, orders."
   ]
  },
  {
   "cell_type": "code",
   "execution_count": 80,
   "id": "3cd1dea6",
   "metadata": {},
   "outputs": [
    {
     "name": "stdout",
     "output_type": "stream",
     "text": [
      "      order_purchase_timestamp  order_item_id  payment_value  cum_sales  \\\n",
      "3          2016-09-15 12:16:38              3            0.0   5.962216   \n",
      "98817      2018-08-28 15:26:39              1            0.0  16.839136   \n",
      "98829      2018-08-28 20:05:14              1            0.0  16.839236   \n",
      "98856      2018-09-03 14:14:25              1            0.0  16.839578   \n",
      "\n",
      "       cum_orders  \n",
      "3        1.945910  \n",
      "98817   11.687500  \n",
      "98829   11.687652  \n",
      "98856   11.687929  \n",
      "\n",
      "4\n",
      "Empty DataFrame\n",
      "Columns: [order_purchase_timestamp, order_item_id, payment_value, cum_sales, cum_orders]\n",
      "Index: []\n"
     ]
    }
   ],
   "source": [
    "d = {'order_item_id': lambda item_id: item_id.count(),\n",
    "     'payment_value': lambda pay_value: pay_value.sum()}\n",
    "\n",
    "\n",
    "df_agg = df_data.groupby(['order_purchase_timestamp'], as_index = False).agg(d)\n",
    "\n",
    "df_agg['cum_sales'] = df_agg['payment_value'].cumsum(axis = 0)\n",
    "df_agg['cum_sales'] = np.log(df_agg['cum_sales'])\n",
    "\n",
    "df_agg['cum_orders'] = df_agg['order_item_id'].cumsum(axis = 0)\n",
    "df_agg['cum_orders'] = np.log(df_agg['cum_orders'])\n",
    "\n",
    "print(df_agg.loc[df_agg['payment_value'] == 0,:])\n",
    "print()\n",
    "print(len(df_agg.loc[df_agg['payment_value'] == 0,:]))\n",
    "\n",
    "print(df_agg.loc[df_agg['order_item_id'] == 0,:])"
   ]
  },
  {
   "cell_type": "code",
   "execution_count": 81,
   "id": "9e7c8a95",
   "metadata": {},
   "outputs": [
    {
     "data": {
      "text/html": [
       "<div>\n",
       "<style scoped>\n",
       "    .dataframe tbody tr th:only-of-type {\n",
       "        vertical-align: middle;\n",
       "    }\n",
       "\n",
       "    .dataframe tbody tr th {\n",
       "        vertical-align: top;\n",
       "    }\n",
       "\n",
       "    .dataframe thead th {\n",
       "        text-align: right;\n",
       "    }\n",
       "</style>\n",
       "<table border=\"1\" class=\"dataframe\">\n",
       "  <thead>\n",
       "    <tr style=\"text-align: right;\">\n",
       "      <th></th>\n",
       "      <th>order_purchase_timestamp</th>\n",
       "      <th>order_item_id</th>\n",
       "      <th>payment_value</th>\n",
       "      <th>cum_sales</th>\n",
       "      <th>cum_orders</th>\n",
       "    </tr>\n",
       "  </thead>\n",
       "  <tbody>\n",
       "    <tr>\n",
       "      <th>0</th>\n",
       "      <td>2016-09-04 21:15:19</td>\n",
       "      <td>2</td>\n",
       "      <td>272.46</td>\n",
       "      <td>5.607492</td>\n",
       "      <td>0.693147</td>\n",
       "    </tr>\n",
       "    <tr>\n",
       "      <th>1</th>\n",
       "      <td>2016-09-05 00:15:34</td>\n",
       "      <td>1</td>\n",
       "      <td>75.06</td>\n",
       "      <td>5.850822</td>\n",
       "      <td>1.098612</td>\n",
       "    </tr>\n",
       "    <tr>\n",
       "      <th>2</th>\n",
       "      <td>2016-09-13 15:24:19</td>\n",
       "      <td>1</td>\n",
       "      <td>40.95</td>\n",
       "      <td>5.962216</td>\n",
       "      <td>1.386294</td>\n",
       "    </tr>\n",
       "  </tbody>\n",
       "</table>\n",
       "</div>"
      ],
      "text/plain": [
       "  order_purchase_timestamp  order_item_id  payment_value  cum_sales  \\\n",
       "0      2016-09-04 21:15:19              2         272.46   5.607492   \n",
       "1      2016-09-05 00:15:34              1          75.06   5.850822   \n",
       "2      2016-09-13 15:24:19              1          40.95   5.962216   \n",
       "\n",
       "   cum_orders  \n",
       "0    0.693147  \n",
       "1    1.098612  \n",
       "2    1.386294  "
      ]
     },
     "execution_count": 81,
     "metadata": {},
     "output_type": "execute_result"
    }
   ],
   "source": [
    "df_agg.head(3)"
   ]
  },
  {
   "cell_type": "code",
   "execution_count": 82,
   "id": "3f71d7e5",
   "metadata": {
    "scrolled": true
   },
   "outputs": [],
   "source": [
    "def display_sales_orders(df_agg):\n",
    "\n",
    "    data = df_agg\n",
    "    x = 'order_purchase_timestamp'\n",
    "    y_pv = 'cum_sales'\n",
    "    y_nb_orders = 'cum_orders'\n",
    "\n",
    "\n",
    "    sns.lineplot(data = data, x = x,y = y_pv, color = 'g')\n",
    "    sns.lineplot(data = data, x = x,y = y_nb_orders, linestyle = \"dashed\", color = 'r')\n",
    "    plt.legend(labels = [\"cumulative_sales\",\"cumulative_orders\"])\n",
    "    plt.xticks(rotation = 45)\n",
    "\n",
    "\n",
    "\n",
    "    plt.show()\n",
    "    return\n"
   ]
  },
  {
   "cell_type": "code",
   "execution_count": 83,
   "id": "24f4e71d",
   "metadata": {
    "scrolled": true
   },
   "outputs": [
    {
     "data": {
      "image/png": "[encoded data removed]",
      "text/plain": [
       "<Figure size 800x550 with 1 Axes>"
      ]
     },
     "metadata": {},
     "output_type": "display_data"
    }
   ],
   "source": [
    "display_sales_orders(df_agg)"
   ]
  },
  {
   "cell_type": "markdown",
   "id": "6cbc939a",
   "metadata": {},
   "source": [
    "Onservation: Valeurs de ventes (paiements et nombre de commandes) absentes pour une période d'un peu moins de trois mois."
   ]
  },
  {
   "cell_type": "markdown",
   "id": "88c268a5",
   "metadata": {},
   "source": [
    "### Zooming period."
   ]
  },
  {
   "cell_type": "code",
   "execution_count": 84,
   "id": "03593d5e",
   "metadata": {},
   "outputs": [
    {
     "data": {
      "text/html": [
       "<div>\n",
       "<style scoped>\n",
       "    .dataframe tbody tr th:only-of-type {\n",
       "        vertical-align: middle;\n",
       "    }\n",
       "\n",
       "    .dataframe tbody tr th {\n",
       "        vertical-align: top;\n",
       "    }\n",
       "\n",
       "    .dataframe thead th {\n",
       "        text-align: right;\n",
       "    }\n",
       "</style>\n",
       "<table border=\"1\" class=\"dataframe\">\n",
       "  <thead>\n",
       "    <tr style=\"text-align: right;\">\n",
       "      <th></th>\n",
       "      <th>order_purchase_timestamp</th>\n",
       "      <th>order_item_id</th>\n",
       "      <th>payment_value</th>\n",
       "      <th>cum_sales</th>\n",
       "      <th>cum_orders</th>\n",
       "    </tr>\n",
       "  </thead>\n",
       "  <tbody>\n",
       "    <tr>\n",
       "      <th>4</th>\n",
       "      <td>2016-10-02 22:07:52</td>\n",
       "      <td>1</td>\n",
       "      <td>109.34</td>\n",
       "      <td>6.210218</td>\n",
       "      <td>2.079442</td>\n",
       "    </tr>\n",
       "    <tr>\n",
       "      <th>5</th>\n",
       "      <td>2016-10-03 09:44:50</td>\n",
       "      <td>1</td>\n",
       "      <td>45.46</td>\n",
       "      <td>6.297606</td>\n",
       "      <td>2.197225</td>\n",
       "    </tr>\n",
       "    <tr>\n",
       "      <th>6</th>\n",
       "      <td>2016-10-03 16:56:50</td>\n",
       "      <td>1</td>\n",
       "      <td>39.09</td>\n",
       "      <td>6.367089</td>\n",
       "      <td>2.302585</td>\n",
       "    </tr>\n",
       "    <tr>\n",
       "      <th>7</th>\n",
       "      <td>2016-10-03 21:01:41</td>\n",
       "      <td>1</td>\n",
       "      <td>35.61</td>\n",
       "      <td>6.426440</td>\n",
       "      <td>2.397895</td>\n",
       "    </tr>\n",
       "    <tr>\n",
       "      <th>8</th>\n",
       "      <td>2016-10-03 21:13:36</td>\n",
       "      <td>1</td>\n",
       "      <td>53.73</td>\n",
       "      <td>6.509812</td>\n",
       "      <td>2.484907</td>\n",
       "    </tr>\n",
       "    <tr>\n",
       "      <th>9</th>\n",
       "      <td>2016-10-03 22:06:03</td>\n",
       "      <td>1</td>\n",
       "      <td>133.46</td>\n",
       "      <td>6.691041</td>\n",
       "      <td>2.564949</td>\n",
       "    </tr>\n",
       "    <tr>\n",
       "      <th>10</th>\n",
       "      <td>2016-10-03 22:31:31</td>\n",
       "      <td>1</td>\n",
       "      <td>40.95</td>\n",
       "      <td>6.740649</td>\n",
       "      <td>2.639057</td>\n",
       "    </tr>\n",
       "    <tr>\n",
       "      <th>11</th>\n",
       "      <td>2016-10-03 22:44:10</td>\n",
       "      <td>1</td>\n",
       "      <td>154.57</td>\n",
       "      <td>6.908435</td>\n",
       "      <td>2.708050</td>\n",
       "    </tr>\n",
       "    <tr>\n",
       "      <th>12</th>\n",
       "      <td>2016-10-03 22:51:30</td>\n",
       "      <td>1</td>\n",
       "      <td>92.27</td>\n",
       "      <td>6.996636</td>\n",
       "      <td>2.772589</td>\n",
       "    </tr>\n",
       "    <tr>\n",
       "      <th>13</th>\n",
       "      <td>2016-10-04 09:06:10</td>\n",
       "      <td>1</td>\n",
       "      <td>65.50</td>\n",
       "      <td>7.054838</td>\n",
       "      <td>2.833213</td>\n",
       "    </tr>\n",
       "    <tr>\n",
       "      <th>14</th>\n",
       "      <td>2016-10-04 09:16:33</td>\n",
       "      <td>1</td>\n",
       "      <td>44.23</td>\n",
       "      <td>7.092308</td>\n",
       "      <td>2.890372</td>\n",
       "    </tr>\n",
       "    <tr>\n",
       "      <th>15</th>\n",
       "      <td>2016-10-04 09:59:03</td>\n",
       "      <td>1</td>\n",
       "      <td>114.77</td>\n",
       "      <td>7.183453</td>\n",
       "      <td>2.944439</td>\n",
       "    </tr>\n",
       "    <tr>\n",
       "      <th>16</th>\n",
       "      <td>2016-10-04 10:05:45</td>\n",
       "      <td>1</td>\n",
       "      <td>50.74</td>\n",
       "      <td>7.221244</td>\n",
       "      <td>2.995732</td>\n",
       "    </tr>\n",
       "    <tr>\n",
       "      <th>17</th>\n",
       "      <td>2016-10-04 10:16:04</td>\n",
       "      <td>1</td>\n",
       "      <td>237.45</td>\n",
       "      <td>7.381278</td>\n",
       "      <td>3.044522</td>\n",
       "    </tr>\n",
       "    <tr>\n",
       "      <th>18</th>\n",
       "      <td>2016-10-04 10:41:17</td>\n",
       "      <td>1</td>\n",
       "      <td>214.98</td>\n",
       "      <td>7.506932</td>\n",
       "      <td>3.091042</td>\n",
       "    </tr>\n",
       "  </tbody>\n",
       "</table>\n",
       "</div>"
      ],
      "text/plain": [
       "   order_purchase_timestamp  order_item_id  payment_value  cum_sales  \\\n",
       "4       2016-10-02 22:07:52              1         109.34   6.210218   \n",
       "5       2016-10-03 09:44:50              1          45.46   6.297606   \n",
       "6       2016-10-03 16:56:50              1          39.09   6.367089   \n",
       "7       2016-10-03 21:01:41              1          35.61   6.426440   \n",
       "8       2016-10-03 21:13:36              1          53.73   6.509812   \n",
       "9       2016-10-03 22:06:03              1         133.46   6.691041   \n",
       "10      2016-10-03 22:31:31              1          40.95   6.740649   \n",
       "11      2016-10-03 22:44:10              1         154.57   6.908435   \n",
       "12      2016-10-03 22:51:30              1          92.27   6.996636   \n",
       "13      2016-10-04 09:06:10              1          65.50   7.054838   \n",
       "14      2016-10-04 09:16:33              1          44.23   7.092308   \n",
       "15      2016-10-04 09:59:03              1         114.77   7.183453   \n",
       "16      2016-10-04 10:05:45              1          50.74   7.221244   \n",
       "17      2016-10-04 10:16:04              1         237.45   7.381278   \n",
       "18      2016-10-04 10:41:17              1         214.98   7.506932   \n",
       "\n",
       "    cum_orders  \n",
       "4     2.079442  \n",
       "5     2.197225  \n",
       "6     2.302585  \n",
       "7     2.397895  \n",
       "8     2.484907  \n",
       "9     2.564949  \n",
       "10    2.639057  \n",
       "11    2.708050  \n",
       "12    2.772589  \n",
       "13    2.833213  \n",
       "14    2.890372  \n",
       "15    2.944439  \n",
       "16    2.995732  \n",
       "17    3.044522  \n",
       "18    3.091042  "
      ]
     },
     "execution_count": 84,
     "metadata": {},
     "output_type": "execute_result"
    }
   ],
   "source": [
    "\n",
    "start_date = '2016-10-01 21:15:19'\n",
    "end_date = '2017-01-30 21:15:19'\n",
    "\n",
    "mask1 = (df_agg['order_purchase_timestamp'] >= start_date) & (df_agg['order_purchase_timestamp'] < end_date)\n",
    "\n",
    "df_agg.loc[mask1,:].head(15)\n"
   ]
  },
  {
   "cell_type": "code",
   "execution_count": 85,
   "id": "604fb509",
   "metadata": {},
   "outputs": [
    {
     "data": {
      "image/png": "[encoded data removed]",
      "text/plain": [
       "<Figure size 800x550 with 1 Axes>"
      ]
     },
     "metadata": {},
     "output_type": "display_data"
    }
   ],
   "source": [
    "display_sales_orders(df_agg.loc[mask1,:])"
   ]
  },
  {
   "cell_type": "markdown",
   "id": "b08a9c19",
   "metadata": {},
   "source": [
    "### Calcul dates d'achat la plus lointaine et la plus récente"
   ]
  },
  {
   "cell_type": "code",
   "execution_count": 86,
   "id": "0085ed5d",
   "metadata": {
    "scrolled": false
   },
   "outputs": [],
   "source": [
    "# calcul dates d'achat la plus lointaine et la plus récente et liste des colonnes de df.\n",
    "\n",
    "def min_max_dates(df):\n",
    "    min_date = df['order_purchase_timestamp'].min()\n",
    "    max_date = df['order_purchase_timestamp'].max()\n",
    "    l_cols = list(df_data.columns)\n",
    "    \n",
    "    \n",
    "    return l_cols, min_date, max_date"
   ]
  },
  {
   "cell_type": "code",
   "execution_count": 87,
   "id": "bac919b7",
   "metadata": {},
   "outputs": [
    {
     "name": "stdout",
     "output_type": "stream",
     "text": [
      "date d'achat la plus lointaine: 2016-09-04 21:15:19\n",
      "\n",
      "date d'achat la plus récente: 2018-10-17 17:30:18\n"
     ]
    }
   ],
   "source": [
    "l_cols, min_date, max_date= min_max_dates(df_data)[0], min_max_dates(df_data)[1], min_max_dates(df_data)[2]\n",
    "\n",
    "print(\"date d'achat la plus lointaine: {}\".format(min_date))\n",
    "print()\n",
    "print(\"date d'achat la plus récente: {}\".format(max_date))\n",
    "\n",
    "\n"
   ]
  },
  {
   "cell_type": "code",
   "execution_count": 88,
   "id": "13ddeb04",
   "metadata": {},
   "outputs": [],
   "source": [
    "def rfmd(df):\n",
    "\n",
    "    d = {'order_purchase_timestamp': lambda duration: (max_date - duration.max()).days,\n",
    "         'order_item_id': lambda item_id: item_id.count(),\n",
    "         'payment_value': lambda pay_value: pay_value.sum(),\n",
    "         'order_delivered_customer_date': lambda deliv_cust_date: deliv_cust_date.mean(),\n",
    "         'order_estimated_delivery_date': lambda estim_cust_date: estim_cust_date.mean()}\n",
    "     \n",
    "\n",
    "    rfm = df.groupby(['customer_id'], as_index = False).agg(d)\n",
    "    \n",
    "    rfm['extra_days_vs_estim'] = rfm['order_delivered_customer_date'] - rfm['order_estimated_delivery_date']\n",
    "    rfm['extra_days_vs_estim'] = rfm['extra_days_vs_estim'].astype('timedelta64[D]')\n",
    "\n",
    "    rfmd = rfm.drop(['order_delivered_customer_date', 'order_estimated_delivery_date'], axis = 1)\n",
    "    \n",
    "    return rfmd\n"
   ]
  },
  {
   "cell_type": "code",
   "execution_count": 89,
   "id": "a5fd63f8",
   "metadata": {},
   "outputs": [],
   "source": [
    "df_rfmd = rfmd(df_data)"
   ]
  },
  {
   "cell_type": "code",
   "execution_count": 90,
   "id": "89dcf650",
   "metadata": {},
   "outputs": [
    {
     "data": {
      "text/html": [
       "<div>\n",
       "<style scoped>\n",
       "    .dataframe tbody tr th:only-of-type {\n",
       "        vertical-align: middle;\n",
       "    }\n",
       "\n",
       "    .dataframe tbody tr th {\n",
       "        vertical-align: top;\n",
       "    }\n",
       "\n",
       "    .dataframe thead th {\n",
       "        text-align: right;\n",
       "    }\n",
       "</style>\n",
       "<table border=\"1\" class=\"dataframe\">\n",
       "  <thead>\n",
       "    <tr style=\"text-align: right;\">\n",
       "      <th></th>\n",
       "      <th>customer_id</th>\n",
       "      <th>order_purchase_timestamp</th>\n",
       "      <th>order_item_id</th>\n",
       "      <th>payment_value</th>\n",
       "      <th>extra_days_vs_estim</th>\n",
       "    </tr>\n",
       "  </thead>\n",
       "  <tbody>\n",
       "    <tr>\n",
       "      <th>0</th>\n",
       "      <td>00012a2ce6f8dcda20d059ce98491703</td>\n",
       "      <td>337</td>\n",
       "      <td>1</td>\n",
       "      <td>114.74</td>\n",
       "      <td>-6.0</td>\n",
       "    </tr>\n",
       "    <tr>\n",
       "      <th>1</th>\n",
       "      <td>000161a058600d5901f007fab4c27140</td>\n",
       "      <td>458</td>\n",
       "      <td>1</td>\n",
       "      <td>67.41</td>\n",
       "      <td>-10.0</td>\n",
       "    </tr>\n",
       "    <tr>\n",
       "      <th>2</th>\n",
       "      <td>0001fd6190edaaf884bcaf3d49edf079</td>\n",
       "      <td>596</td>\n",
       "      <td>1</td>\n",
       "      <td>195.42</td>\n",
       "      <td>-16.0</td>\n",
       "    </tr>\n",
       "    <tr>\n",
       "      <th>3</th>\n",
       "      <td>0002414f95344307404f0ace7a26f1d5</td>\n",
       "      <td>427</td>\n",
       "      <td>1</td>\n",
       "      <td>179.35</td>\n",
       "      <td>-1.0</td>\n",
       "    </tr>\n",
       "    <tr>\n",
       "      <th>4</th>\n",
       "      <td>000379cdec625522490c315e70c7a9fb</td>\n",
       "      <td>198</td>\n",
       "      <td>1</td>\n",
       "      <td>107.01</td>\n",
       "      <td>-5.0</td>\n",
       "    </tr>\n",
       "    <tr>\n",
       "      <th>5</th>\n",
       "      <td>0004164d20a9e969af783496f3408652</td>\n",
       "      <td>553</td>\n",
       "      <td>1</td>\n",
       "      <td>71.80</td>\n",
       "      <td>-14.0</td>\n",
       "    </tr>\n",
       "    <tr>\n",
       "      <th>6</th>\n",
       "      <td>000419c5494106c306a97b5635748086</td>\n",
       "      <td>228</td>\n",
       "      <td>1</td>\n",
       "      <td>49.40</td>\n",
       "      <td>26.0</td>\n",
       "    </tr>\n",
       "    <tr>\n",
       "      <th>7</th>\n",
       "      <td>00046a560d407e99b969756e0b10f282</td>\n",
       "      <td>303</td>\n",
       "      <td>1</td>\n",
       "      <td>166.59</td>\n",
       "      <td>-17.0</td>\n",
       "    </tr>\n",
       "    <tr>\n",
       "      <th>8</th>\n",
       "      <td>00050bf6e01e69d5c0fd612f1bcfb69c</td>\n",
       "      <td>395</td>\n",
       "      <td>1</td>\n",
       "      <td>85.23</td>\n",
       "      <td>-11.0</td>\n",
       "    </tr>\n",
       "    <tr>\n",
       "      <th>9</th>\n",
       "      <td>000598caf2ef4117407665ac33275130</td>\n",
       "      <td>67</td>\n",
       "      <td>1</td>\n",
       "      <td>1255.71</td>\n",
       "      <td>-17.0</td>\n",
       "    </tr>\n",
       "  </tbody>\n",
       "</table>\n",
       "</div>"
      ],
      "text/plain": [
       "                        customer_id  order_purchase_timestamp  order_item_id  \\\n",
       "0  00012a2ce6f8dcda20d059ce98491703                       337              1   \n",
       "1  000161a058600d5901f007fab4c27140                       458              1   \n",
       "2  0001fd6190edaaf884bcaf3d49edf079                       596              1   \n",
       "3  0002414f95344307404f0ace7a26f1d5                       427              1   \n",
       "4  000379cdec625522490c315e70c7a9fb                       198              1   \n",
       "5  0004164d20a9e969af783496f3408652                       553              1   \n",
       "6  000419c5494106c306a97b5635748086                       228              1   \n",
       "7  00046a560d407e99b969756e0b10f282                       303              1   \n",
       "8  00050bf6e01e69d5c0fd612f1bcfb69c                       395              1   \n",
       "9  000598caf2ef4117407665ac33275130                        67              1   \n",
       "\n",
       "   payment_value  extra_days_vs_estim  \n",
       "0         114.74                 -6.0  \n",
       "1          67.41                -10.0  \n",
       "2         195.42                -16.0  \n",
       "3         179.35                 -1.0  \n",
       "4         107.01                 -5.0  \n",
       "5          71.80                -14.0  \n",
       "6          49.40                 26.0  \n",
       "7         166.59                -17.0  \n",
       "8          85.23                -11.0  \n",
       "9        1255.71                -17.0  "
      ]
     },
     "execution_count": 90,
     "metadata": {},
     "output_type": "execute_result"
    }
   ],
   "source": [
    "df_rfmd.head(10)"
   ]
  },
  {
   "cell_type": "code",
   "execution_count": 91,
   "id": "b87790eb",
   "metadata": {
    "scrolled": true
   },
   "outputs": [
    {
     "data": {
      "text/plain": [
       "['customer_id',\n",
       " 'order_purchase_timestamp',\n",
       " 'order_item_id',\n",
       " 'payment_value',\n",
       " 'extra_days_vs_estim']"
      ]
     },
     "execution_count": 91,
     "metadata": {},
     "output_type": "execute_result"
    }
   ],
   "source": [
    "df_rfmd_cols = list(df_rfmd.columns)\n",
    "\n",
    "df_rfmd_cols"
   ]
  },
  {
   "cell_type": "code",
   "execution_count": 92,
   "id": "7db71c88",
   "metadata": {},
   "outputs": [],
   "source": [
    "def rename_cols(df):\n",
    "    l_old_names = ['order_purchase_timestamp',\n",
    "                   'order_item_id','payment_value',\n",
    "                   'extra_days_vs_estim']\n",
    "    \n",
    "    l_new_names = ['recency', 'frequency',\n",
    "                   'monetary', 'extra_days_vs_estim']\n",
    "    \n",
    "    \n",
    "    for name in l_old_names:\n",
    "        \n",
    "        i = l_old_names.index(name)\n",
    "        \n",
    "        df.rename(columns = {name:l_new_names[i]}, inplace = True)\n",
    "        \n",
    "    return df"
   ]
  },
  {
   "cell_type": "code",
   "execution_count": 93,
   "id": "39479932",
   "metadata": {
    "scrolled": false
   },
   "outputs": [],
   "source": [
    "df_rfmd = rename_cols(df_rfmd)"
   ]
  },
  {
   "cell_type": "markdown",
   "id": "62fd077e",
   "metadata": {},
   "source": [
    "### Score RFMD."
   ]
  },
  {
   "cell_type": "code",
   "execution_count": 94,
   "id": "eeaebfdf",
   "metadata": {},
   "outputs": [
    {
     "data": {
      "text/html": [
       "<div>\n",
       "<style scoped>\n",
       "    .dataframe tbody tr th:only-of-type {\n",
       "        vertical-align: middle;\n",
       "    }\n",
       "\n",
       "    .dataframe tbody tr th {\n",
       "        vertical-align: top;\n",
       "    }\n",
       "\n",
       "    .dataframe thead th {\n",
       "        text-align: right;\n",
       "    }\n",
       "</style>\n",
       "<table border=\"1\" class=\"dataframe\">\n",
       "  <thead>\n",
       "    <tr style=\"text-align: right;\">\n",
       "      <th></th>\n",
       "      <th>customer_id</th>\n",
       "      <th>recency</th>\n",
       "      <th>frequency</th>\n",
       "      <th>monetary</th>\n",
       "      <th>extra_days_vs_estim</th>\n",
       "      <th>r_quartile</th>\n",
       "      <th>f_quartile</th>\n",
       "      <th>m_quartile</th>\n",
       "      <th>d_quartile</th>\n",
       "      <th>rfmd_score</th>\n",
       "    </tr>\n",
       "  </thead>\n",
       "  <tbody>\n",
       "    <tr>\n",
       "      <th>0</th>\n",
       "      <td>00012a2ce6f8dcda20d059ce98491703</td>\n",
       "      <td>337</td>\n",
       "      <td>1</td>\n",
       "      <td>114.74</td>\n",
       "      <td>-6.0</td>\n",
       "      <td>3</td>\n",
       "      <td>4</td>\n",
       "      <td>2</td>\n",
       "      <td>4</td>\n",
       "      <td>3424</td>\n",
       "    </tr>\n",
       "    <tr>\n",
       "      <th>1</th>\n",
       "      <td>000161a058600d5901f007fab4c27140</td>\n",
       "      <td>458</td>\n",
       "      <td>1</td>\n",
       "      <td>67.41</td>\n",
       "      <td>-10.0</td>\n",
       "      <td>4</td>\n",
       "      <td>4</td>\n",
       "      <td>3</td>\n",
       "      <td>3</td>\n",
       "      <td>4433</td>\n",
       "    </tr>\n",
       "    <tr>\n",
       "      <th>2</th>\n",
       "      <td>0001fd6190edaaf884bcaf3d49edf079</td>\n",
       "      <td>596</td>\n",
       "      <td>1</td>\n",
       "      <td>195.42</td>\n",
       "      <td>-16.0</td>\n",
       "      <td>4</td>\n",
       "      <td>4</td>\n",
       "      <td>2</td>\n",
       "      <td>2</td>\n",
       "      <td>4422</td>\n",
       "    </tr>\n",
       "  </tbody>\n",
       "</table>\n",
       "</div>"
      ],
      "text/plain": [
       "                        customer_id  recency  frequency  monetary  \\\n",
       "0  00012a2ce6f8dcda20d059ce98491703      337          1    114.74   \n",
       "1  000161a058600d5901f007fab4c27140      458          1     67.41   \n",
       "2  0001fd6190edaaf884bcaf3d49edf079      596          1    195.42   \n",
       "\n",
       "   extra_days_vs_estim r_quartile f_quartile m_quartile d_quartile rfmd_score  \n",
       "0                 -6.0          3          4          2          4       3424  \n",
       "1                -10.0          4          4          3          3       4433  \n",
       "2                -16.0          4          4          2          2       4422  "
      ]
     },
     "execution_count": 94,
     "metadata": {},
     "output_type": "execute_result"
    }
   ],
   "source": [
    "df_rfmd['r_quartile'] = pd.qcut(df_rfmd['recency'].rank(method = 'first'),\n",
    "                                q = 4, labels = ['1','2','3', '4'])\n",
    "\n",
    "df_rfmd['f_quartile'] = pd.qcut(df_rfmd['frequency'].rank(method = 'first'),\n",
    "                                q = 4, labels = ['4','3','2','1'])\n",
    "\n",
    "df_rfmd['m_quartile'] = pd.qcut(df_rfmd['monetary'].rank(method = 'first'),\n",
    "                                q = 4, labels = ['4','3','2','1'])\n",
    "\n",
    "df_rfmd['d_quartile'] = pd.qcut(df_rfmd['extra_days_vs_estim'].rank(method = 'first'),\n",
    "                                q = 4, labels = ['1','2','3', '4'])\n",
    "\n",
    "# Top customers ranking = '1111'\n",
    "df_rfmd['rfmd_score'] = df_rfmd['r_quartile'].astype('str') \\\n",
    "+ df_rfmd['f_quartile'].astype('str')\\\n",
    "+ df_rfmd['m_quartile'].astype('str')\\\n",
    "+ df_rfmd['d_quartile'].astype('str')\n",
    "\n",
    "\n",
    "df_rfmd.head(3)"
   ]
  },
  {
   "cell_type": "code",
   "execution_count": 95,
   "id": "df6c7c9f",
   "metadata": {
    "scrolled": true
   },
   "outputs": [
    {
     "name": "stdout",
     "output_type": "stream",
     "text": [
      "<class 'pandas.core.frame.DataFrame'>\n",
      "RangeIndex: 99441 entries, 0 to 99440\n",
      "Data columns (total 10 columns):\n",
      " #   Column               Non-Null Count  Dtype   \n",
      "---  ------               --------------  -----   \n",
      " 0   customer_id          99441 non-null  object  \n",
      " 1   recency              99441 non-null  int64   \n",
      " 2   frequency            99441 non-null  int64   \n",
      " 3   monetary             99441 non-null  float64 \n",
      " 4   extra_days_vs_estim  99441 non-null  float64 \n",
      " 5   r_quartile           99441 non-null  category\n",
      " 6   f_quartile           99441 non-null  category\n",
      " 7   m_quartile           99441 non-null  category\n",
      " 8   d_quartile           99441 non-null  category\n",
      " 9   rfmd_score           99441 non-null  object  \n",
      "dtypes: category(4), float64(2), int64(2), object(2)\n",
      "memory usage: 4.9+ MB\n"
     ]
    }
   ],
   "source": [
    "df_rfmd.info()"
   ]
  },
  {
   "cell_type": "markdown",
   "id": "c3d000c1",
   "metadata": {},
   "source": [
    "### Score RFMD."
   ]
  },
  {
   "cell_type": "markdown",
   "id": "a06282a6",
   "metadata": {},
   "source": [
    "Observation:\n",
    "- les clients les mieux notés sont ceux se rapprochant de la note '1111'.\n",
    "- Les notes s'étalent de '1111' (les meilleures) à '4444' (les plus mauvaises).\n",
    "- Il serait intéressant de réduire le nombre de combinaisons de scores possibles. C'est la prochaine étape.\n",
    "\n",
    "\n"
   ]
  },
  {
   "cell_type": "code",
   "execution_count": 96,
   "id": "4ebde0cd",
   "metadata": {},
   "outputs": [],
   "source": [
    "df_rfmd['rfmd_score'] = df_rfmd['rfmd_score'].astype('int64')\n",
    "\n",
    "df_rfmd['rfmd_score_limited'] = pd.qcut(df_rfmd['rfmd_score'],\n",
    "                                        q = 4, labels = ['good', 'median_high', 'median_low', 'bad'])"
   ]
  },
  {
   "cell_type": "code",
   "execution_count": 97,
   "id": "d6128499",
   "metadata": {},
   "outputs": [],
   "source": [
    "# Conversion rfmd['rfmd_score_limited'] en format object.\n",
    "\n",
    "df_rfmd['rfmd_score_limited'] = df_rfmd['rfmd_score_limited'].astype('object')\n"
   ]
  },
  {
   "cell_type": "code",
   "execution_count": 98,
   "id": "960e0068",
   "metadata": {},
   "outputs": [
    {
     "data": {
      "text/html": [
       "<div>\n",
       "<style scoped>\n",
       "    .dataframe tbody tr th:only-of-type {\n",
       "        vertical-align: middle;\n",
       "    }\n",
       "\n",
       "    .dataframe tbody tr th {\n",
       "        vertical-align: top;\n",
       "    }\n",
       "\n",
       "    .dataframe thead th {\n",
       "        text-align: right;\n",
       "    }\n",
       "</style>\n",
       "<table border=\"1\" class=\"dataframe\">\n",
       "  <thead>\n",
       "    <tr style=\"text-align: right;\">\n",
       "      <th></th>\n",
       "      <th>customer_id</th>\n",
       "      <th>recency</th>\n",
       "      <th>frequency</th>\n",
       "      <th>monetary</th>\n",
       "      <th>extra_days_vs_estim</th>\n",
       "      <th>r_quartile</th>\n",
       "      <th>f_quartile</th>\n",
       "      <th>m_quartile</th>\n",
       "      <th>d_quartile</th>\n",
       "      <th>rfmd_score</th>\n",
       "      <th>rfmd_score_limited</th>\n",
       "    </tr>\n",
       "  </thead>\n",
       "  <tbody>\n",
       "    <tr>\n",
       "      <th>0</th>\n",
       "      <td>00012a2ce6f8dcda20d059ce98491703</td>\n",
       "      <td>337</td>\n",
       "      <td>1</td>\n",
       "      <td>114.74</td>\n",
       "      <td>-6.0</td>\n",
       "      <td>3</td>\n",
       "      <td>4</td>\n",
       "      <td>2</td>\n",
       "      <td>4</td>\n",
       "      <td>3424</td>\n",
       "      <td>median_low</td>\n",
       "    </tr>\n",
       "    <tr>\n",
       "      <th>1</th>\n",
       "      <td>000161a058600d5901f007fab4c27140</td>\n",
       "      <td>458</td>\n",
       "      <td>1</td>\n",
       "      <td>67.41</td>\n",
       "      <td>-10.0</td>\n",
       "      <td>4</td>\n",
       "      <td>4</td>\n",
       "      <td>3</td>\n",
       "      <td>3</td>\n",
       "      <td>4433</td>\n",
       "      <td>bad</td>\n",
       "    </tr>\n",
       "    <tr>\n",
       "      <th>2</th>\n",
       "      <td>0001fd6190edaaf884bcaf3d49edf079</td>\n",
       "      <td>596</td>\n",
       "      <td>1</td>\n",
       "      <td>195.42</td>\n",
       "      <td>-16.0</td>\n",
       "      <td>4</td>\n",
       "      <td>4</td>\n",
       "      <td>2</td>\n",
       "      <td>2</td>\n",
       "      <td>4422</td>\n",
       "      <td>bad</td>\n",
       "    </tr>\n",
       "  </tbody>\n",
       "</table>\n",
       "</div>"
      ],
      "text/plain": [
       "                        customer_id  recency  frequency  monetary  \\\n",
       "0  00012a2ce6f8dcda20d059ce98491703      337          1    114.74   \n",
       "1  000161a058600d5901f007fab4c27140      458          1     67.41   \n",
       "2  0001fd6190edaaf884bcaf3d49edf079      596          1    195.42   \n",
       "\n",
       "   extra_days_vs_estim r_quartile f_quartile m_quartile d_quartile  \\\n",
       "0                 -6.0          3          4          2          4   \n",
       "1                -10.0          4          4          3          3   \n",
       "2                -16.0          4          4          2          2   \n",
       "\n",
       "   rfmd_score rfmd_score_limited  \n",
       "0        3424         median_low  \n",
       "1        4433                bad  \n",
       "2        4422                bad  "
      ]
     },
     "execution_count": 98,
     "metadata": {},
     "output_type": "execute_result"
    }
   ],
   "source": [
    "df_rfmd.head(3)"
   ]
  },
  {
   "cell_type": "code",
   "execution_count": 99,
   "id": "3251dd57",
   "metadata": {},
   "outputs": [
    {
     "name": "stdout",
     "output_type": "stream",
     "text": [
      "<class 'pandas.core.frame.DataFrame'>\n",
      "RangeIndex: 99441 entries, 0 to 99440\n",
      "Data columns (total 11 columns):\n",
      " #   Column               Non-Null Count  Dtype   \n",
      "---  ------               --------------  -----   \n",
      " 0   customer_id          99441 non-null  object  \n",
      " 1   recency              99441 non-null  int64   \n",
      " 2   frequency            99441 non-null  int64   \n",
      " 3   monetary             99441 non-null  float64 \n",
      " 4   extra_days_vs_estim  99441 non-null  float64 \n",
      " 5   r_quartile           99441 non-null  category\n",
      " 6   f_quartile           99441 non-null  category\n",
      " 7   m_quartile           99441 non-null  category\n",
      " 8   d_quartile           99441 non-null  category\n",
      " 9   rfmd_score           99441 non-null  int64   \n",
      " 10  rfmd_score_limited   99441 non-null  object  \n",
      "dtypes: category(4), float64(2), int64(3), object(2)\n",
      "memory usage: 5.7+ MB\n"
     ]
    }
   ],
   "source": [
    "df_rfmd.info()"
   ]
  },
  {
   "cell_type": "markdown",
   "id": "222103fd",
   "metadata": {},
   "source": [
    "# Numerical features, datetime & categorical features."
   ]
  },
  {
   "cell_type": "code",
   "execution_count": 100,
   "id": "cc59b559",
   "metadata": {},
   "outputs": [],
   "source": [
    "numerical_features = df_rfmd.select_dtypes(include = ['int64', 'float64'])"
   ]
  },
  {
   "cell_type": "code",
   "execution_count": 101,
   "id": "6a3850ea",
   "metadata": {
    "scrolled": false
   },
   "outputs": [
    {
     "name": "stdout",
     "output_type": "stream",
     "text": [
      "<class 'pandas.core.frame.DataFrame'>\n",
      "RangeIndex: 99441 entries, 0 to 99440\n",
      "Data columns (total 5 columns):\n",
      " #   Column               Non-Null Count  Dtype  \n",
      "---  ------               --------------  -----  \n",
      " 0   recency              99441 non-null  int64  \n",
      " 1   frequency            99441 non-null  int64  \n",
      " 2   monetary             99441 non-null  float64\n",
      " 3   extra_days_vs_estim  99441 non-null  float64\n",
      " 4   rfmd_score           99441 non-null  int64  \n",
      "dtypes: float64(2), int64(3)\n",
      "memory usage: 3.8 MB\n"
     ]
    }
   ],
   "source": [
    "numerical_features.info()"
   ]
  },
  {
   "cell_type": "code",
   "execution_count": 102,
   "id": "e8fa7fdc",
   "metadata": {},
   "outputs": [],
   "source": [
    "categorical_features = df_rfmd.select_dtypes(include = ['object'])"
   ]
  },
  {
   "cell_type": "code",
   "execution_count": 103,
   "id": "65bea124",
   "metadata": {},
   "outputs": [
    {
     "name": "stdout",
     "output_type": "stream",
     "text": [
      "<class 'pandas.core.frame.DataFrame'>\n",
      "RangeIndex: 99441 entries, 0 to 99440\n",
      "Data columns (total 2 columns):\n",
      " #   Column              Non-Null Count  Dtype \n",
      "---  ------              --------------  ----- \n",
      " 0   customer_id         99441 non-null  object\n",
      " 1   rfmd_score_limited  99441 non-null  object\n",
      "dtypes: object(2)\n",
      "memory usage: 1.5+ MB\n"
     ]
    }
   ],
   "source": [
    "categorical_features.info()"
   ]
  },
  {
   "cell_type": "markdown",
   "id": "d64abc7f",
   "metadata": {},
   "source": [
    "# Distribution, numerical features"
   ]
  },
  {
   "cell_type": "code",
   "execution_count": 104,
   "id": "21d77b36",
   "metadata": {},
   "outputs": [],
   "source": [
    "def display(df):\n",
    "    cols = len(df.columns)\n",
    "    \n",
    "    \n",
    "    # fixe nb plot = 3\n",
    "    n_cols = 3\n",
    "\n",
    "    #Si nb colonnes est impair\n",
    "    if cols%3 == 0:\n",
    "        n_rows = int(cols/n_cols)\n",
    "        \n",
    "    #Si nb colonnes est pair\n",
    "    if cols%3 != 0:\n",
    "        n_rows = int(cols/n_cols) + 1\n",
    "        \n",
    "    \n",
    "    fig, axes = plt.subplots(n_rows, n_cols, figsize=(10,6))\n",
    "    fig.tight_layout(pad = 3.0)\n",
    "    \n",
    "    for i, ax in enumerate(axes.flatten()):\n",
    "                \n",
    "        if i >= cols:\n",
    "            break\n",
    "\n",
    "        \n",
    "        if i < cols:\n",
    "            col_name = df.columns[i]        \n",
    "            sns.boxplot(df[col_name], ax = ax)\n",
    "            \n",
    "            ax.set_title(col_name, fontsize = 8)\n",
    "                        \n",
    "    plt.show()\n",
    "    return\n"
   ]
  },
  {
   "cell_type": "code",
   "execution_count": 105,
   "id": "267b3a05",
   "metadata": {},
   "outputs": [
    {
     "data": {
      "image/png": "[encoded data removed]",
      "text/plain": [
       "<Figure size 1000x600 with 6 Axes>"
      ]
     },
     "metadata": {},
     "output_type": "display_data"
    }
   ],
   "source": [
    "display(numerical_features)"
   ]
  },
  {
   "cell_type": "markdown",
   "id": "3e021c71",
   "metadata": {},
   "source": [
    "Observations:\n",
    "- Recence: valeur médiane à 270 jours à peu près. 50% des valeurs comprises entre 270 j. et 750 j. Peut on considérer que ce KPI est bon ? Regarder ce que fait la concurrence ?\n",
    "- Frequency: valeur médiane voisine de 0, faible renouvellement de commande.\n",
    "- Monetary: valeur médiane voisine de 0, montants d'achats faibles par client.\n",
    "- Extra days versus estimated: valeur médiane négative (dates effectives de livraison sont inférieures aux dates estimées). Plus de 75% des commandes sont livrées en avance. Mais nombre d'outliers important.\n",
    "- RFMD score: indicateur qui prend en compte la récence, la fréquence, le montant des achats ainsi que l'exactitude de la durée de livraison. Ce score est jugé bon s'il est proche de '1111', or ici il en est éloigné."
   ]
  },
  {
   "cell_type": "code",
   "execution_count": 106,
   "id": "c1d82530",
   "metadata": {
    "scrolled": true
   },
   "outputs": [],
   "source": [
    "particular_num_values = numerical_features.describe()"
   ]
  },
  {
   "cell_type": "code",
   "execution_count": 107,
   "id": "c58d4019",
   "metadata": {},
   "outputs": [
    {
     "data": {
      "text/html": [
       "<div>\n",
       "<style scoped>\n",
       "    .dataframe tbody tr th:only-of-type {\n",
       "        vertical-align: middle;\n",
       "    }\n",
       "\n",
       "    .dataframe tbody tr th {\n",
       "        vertical-align: top;\n",
       "    }\n",
       "\n",
       "    .dataframe thead th {\n",
       "        text-align: right;\n",
       "    }\n",
       "</style>\n",
       "<table border=\"1\" class=\"dataframe\">\n",
       "  <thead>\n",
       "    <tr style=\"text-align: right;\">\n",
       "      <th></th>\n",
       "      <th>recency</th>\n",
       "      <th>frequency</th>\n",
       "      <th>monetary</th>\n",
       "      <th>extra_days_vs_estim</th>\n",
       "      <th>rfmd_score</th>\n",
       "    </tr>\n",
       "  </thead>\n",
       "  <tbody>\n",
       "    <tr>\n",
       "      <th>count</th>\n",
       "      <td>99441.000000</td>\n",
       "      <td>99441.000000</td>\n",
       "      <td>99441.000000</td>\n",
       "      <td>99441.000000</td>\n",
       "      <td>99441.000000</td>\n",
       "    </tr>\n",
       "    <tr>\n",
       "      <th>mean</th>\n",
       "      <td>289.900192</td>\n",
       "      <td>1.198128</td>\n",
       "      <td>206.953510</td>\n",
       "      <td>-9.779880</td>\n",
       "      <td>2777.486560</td>\n",
       "    </tr>\n",
       "    <tr>\n",
       "      <th>std</th>\n",
       "      <td>153.667316</td>\n",
       "      <td>0.751055</td>\n",
       "      <td>622.550183</td>\n",
       "      <td>32.610326</td>\n",
       "      <td>1122.730617</td>\n",
       "    </tr>\n",
       "    <tr>\n",
       "      <th>min</th>\n",
       "      <td>0.000000</td>\n",
       "      <td>1.000000</td>\n",
       "      <td>0.000000</td>\n",
       "      <td>-284.000000</td>\n",
       "      <td>1111.000000</td>\n",
       "    </tr>\n",
       "    <tr>\n",
       "      <th>25%</th>\n",
       "      <td>166.000000</td>\n",
       "      <td>1.000000</td>\n",
       "      <td>62.960000</td>\n",
       "      <td>-17.000000</td>\n",
       "      <td>1444.000000</td>\n",
       "    </tr>\n",
       "    <tr>\n",
       "      <th>50%</th>\n",
       "      <td>271.000000</td>\n",
       "      <td>1.000000</td>\n",
       "      <td>110.240000</td>\n",
       "      <td>-12.000000</td>\n",
       "      <td>2444.000000</td>\n",
       "    </tr>\n",
       "    <tr>\n",
       "      <th>75%</th>\n",
       "      <td>400.000000</td>\n",
       "      <td>1.000000</td>\n",
       "      <td>196.520000</td>\n",
       "      <td>-7.000000</td>\n",
       "      <td>3444.000000</td>\n",
       "    </tr>\n",
       "    <tr>\n",
       "      <th>max</th>\n",
       "      <td>772.000000</td>\n",
       "      <td>63.000000</td>\n",
       "      <td>109312.640000</td>\n",
       "      <td>489.000000</td>\n",
       "      <td>4444.000000</td>\n",
       "    </tr>\n",
       "  </tbody>\n",
       "</table>\n",
       "</div>"
      ],
      "text/plain": [
       "            recency     frequency       monetary  extra_days_vs_estim  \\\n",
       "count  99441.000000  99441.000000   99441.000000         99441.000000   \n",
       "mean     289.900192      1.198128     206.953510            -9.779880   \n",
       "std      153.667316      0.751055     622.550183            32.610326   \n",
       "min        0.000000      1.000000       0.000000          -284.000000   \n",
       "25%      166.000000      1.000000      62.960000           -17.000000   \n",
       "50%      271.000000      1.000000     110.240000           -12.000000   \n",
       "75%      400.000000      1.000000     196.520000            -7.000000   \n",
       "max      772.000000     63.000000  109312.640000           489.000000   \n",
       "\n",
       "         rfmd_score  \n",
       "count  99441.000000  \n",
       "mean    2777.486560  \n",
       "std     1122.730617  \n",
       "min     1111.000000  \n",
       "25%     1444.000000  \n",
       "50%     2444.000000  \n",
       "75%     3444.000000  \n",
       "max     4444.000000  "
      ]
     },
     "execution_count": 107,
     "metadata": {},
     "output_type": "execute_result"
    }
   ],
   "source": [
    "particular_num_values"
   ]
  },
  {
   "cell_type": "code",
   "execution_count": 108,
   "id": "536305b4",
   "metadata": {},
   "outputs": [],
   "source": [
    "def display_partic_num(df):\n",
    "    \n",
    "    cols = len(df.columns)\n",
    "    df = df.iloc[1:4,:]    \n",
    "    \n",
    "    # fixe nb plot = 3\n",
    "    n_cols = 3\n",
    "\n",
    "    #Si nb colonnes est impair\n",
    "    if cols%3 == 0:\n",
    "        n_rows = int(cols/n_cols)\n",
    "        \n",
    "    #Si nb colonnes est pair\n",
    "    if cols%3 != 0:\n",
    "        n_rows = int(cols/n_cols) + 1\n",
    "        \n",
    "    \n",
    "    fig, axes = plt.subplots(n_rows, n_cols, figsize=(10,6))\n",
    "    fig.tight_layout(pad = 3.0)\n",
    "    \n",
    "    for i, ax in enumerate(axes.flatten()):\n",
    "                \n",
    "        if i >= cols:\n",
    "            break\n",
    "\n",
    "        \n",
    "        if i < cols:\n",
    "            col_name = df.columns[i]\n",
    "            \n",
    "            df_feature = df[[col_name]]\n",
    "            data = df_feature.values\n",
    "            #data_log = np.log(df_feature.values)\n",
    "             \n",
    "                \n",
    "            sns.barplot(data = df_feature, x = df_feature.index, y = data.reshape(-1,), ax = ax)\n",
    "            ax.set_title(col_name, fontsize = 10)\n",
    "            \n",
    "            ax.tick_params(axis = \"x\", labelsize = 6)\n",
    "            ax.tick_params(axis = \"y\", labelsize = 6)\n",
    "            \n",
    "    plt.show()\n",
    "    return\n",
    "    \n",
    "    "
   ]
  },
  {
   "cell_type": "code",
   "execution_count": 109,
   "id": "89e31814",
   "metadata": {},
   "outputs": [
    {
     "data": {
      "image/png": "[encoded data removed]",
      "text/plain": [
       "<Figure size 1000x600 with 6 Axes>"
      ]
     },
     "metadata": {},
     "output_type": "display_data"
    }
   ],
   "source": [
    "display_partic_num(particular_num_values)"
   ]
  },
  {
   "cell_type": "markdown",
   "id": "44c85501",
   "metadata": {},
   "source": [
    "On privilégiera la médiane pour le remplacement des valeurs manquantes compte tenu de l'étendue des valeurs."
   ]
  },
  {
   "cell_type": "markdown",
   "id": "8fbf9071",
   "metadata": {},
   "source": [
    "# DataFrame pour analyse."
   ]
  },
  {
   "cell_type": "code",
   "execution_count": 110,
   "id": "786d675a",
   "metadata": {},
   "outputs": [
    {
     "name": "stdout",
     "output_type": "stream",
     "text": [
      "<class 'pandas.core.frame.DataFrame'>\n",
      "RangeIndex: 99441 entries, 0 to 99440\n",
      "Data columns (total 11 columns):\n",
      " #   Column               Non-Null Count  Dtype   \n",
      "---  ------               --------------  -----   \n",
      " 0   customer_id          99441 non-null  object  \n",
      " 1   recency              99441 non-null  int64   \n",
      " 2   frequency            99441 non-null  int64   \n",
      " 3   monetary             99441 non-null  float64 \n",
      " 4   extra_days_vs_estim  99441 non-null  float64 \n",
      " 5   r_quartile           99441 non-null  category\n",
      " 6   f_quartile           99441 non-null  category\n",
      " 7   m_quartile           99441 non-null  category\n",
      " 8   d_quartile           99441 non-null  category\n",
      " 9   rfmd_score           99441 non-null  int64   \n",
      " 10  rfmd_score_limited   99441 non-null  object  \n",
      "dtypes: category(4), float64(2), int64(3), object(2)\n",
      "memory usage: 5.7+ MB\n"
     ]
    }
   ],
   "source": [
    "df_rfmd.info()"
   ]
  },
  {
   "cell_type": "code",
   "execution_count": 111,
   "id": "eba43e75",
   "metadata": {},
   "outputs": [],
   "source": [
    "df_final = df_rfmd.select_dtypes(exclude = ['category'])\n",
    "df_final.drop(['customer_id','rfmd_score', 'rfmd_score_limited'], axis = 1, inplace = True)"
   ]
  },
  {
   "cell_type": "code",
   "execution_count": 112,
   "id": "106a9eba",
   "metadata": {
    "scrolled": true
   },
   "outputs": [
    {
     "name": "stdout",
     "output_type": "stream",
     "text": [
      "<class 'pandas.core.frame.DataFrame'>\n",
      "RangeIndex: 99441 entries, 0 to 99440\n",
      "Data columns (total 4 columns):\n",
      " #   Column               Non-Null Count  Dtype  \n",
      "---  ------               --------------  -----  \n",
      " 0   recency              99441 non-null  int64  \n",
      " 1   frequency            99441 non-null  int64  \n",
      " 2   monetary             99441 non-null  float64\n",
      " 3   extra_days_vs_estim  99441 non-null  float64\n",
      "dtypes: float64(2), int64(2)\n",
      "memory usage: 3.0 MB\n"
     ]
    }
   ],
   "source": [
    "df_final.info()"
   ]
  },
  {
   "cell_type": "code",
   "execution_count": 113,
   "id": "aa510d33",
   "metadata": {},
   "outputs": [],
   "source": [
    "numerical_features = list(df_final.select_dtypes(include = ['float64', 'int64']))\n",
    "\n",
    "\n",
    "#categorical_features = list(df_final.select_dtypes(include=['object']))"
   ]
  },
  {
   "cell_type": "markdown",
   "id": "56fd881a",
   "metadata": {},
   "source": [
    "# Remplacement valeurs manquantes, numerical features."
   ]
  },
  {
   "cell_type": "markdown",
   "id": "6a997d90",
   "metadata": {},
   "source": [
    "## Pipelines."
   ]
  },
  {
   "cell_type": "markdown",
   "id": "1783bf6a",
   "metadata": {},
   "source": [
    "### Numerical pipeline."
   ]
  },
  {
   "cell_type": "code",
   "execution_count": 114,
   "id": "9661ba15",
   "metadata": {},
   "outputs": [],
   "source": [
    "num_pipeline = make_pipeline(StandardScaler(),SimpleImputer(strategy = 'mean'))"
   ]
  },
  {
   "cell_type": "code",
   "execution_count": 115,
   "id": "de25ee26",
   "metadata": {},
   "outputs": [
    {
     "data": {
      "text/plain": [
       "['recency', 'frequency', 'monetary', 'extra_days_vs_estim']"
      ]
     },
     "execution_count": 115,
     "metadata": {},
     "output_type": "execute_result"
    }
   ],
   "source": [
    "numerical_features"
   ]
  },
  {
   "cell_type": "markdown",
   "id": "0df9aa23",
   "metadata": {},
   "source": [
    "### Preprocessor."
   ]
  },
  {
   "cell_type": "code",
   "execution_count": 116,
   "id": "096cbe83",
   "metadata": {},
   "outputs": [],
   "source": [
    "preprocessor = make_column_transformer((num_pipeline, numerical_features))"
   ]
  },
  {
   "cell_type": "markdown",
   "id": "68f0c818",
   "metadata": {},
   "source": [
    "# Influence variable délai livraison."
   ]
  },
  {
   "cell_type": "code",
   "execution_count": 117,
   "id": "20a6ee03",
   "metadata": {},
   "outputs": [],
   "source": [
    "scaled_centered = preprocessor.fit_transform(df_final)"
   ]
  },
  {
   "cell_type": "code",
   "execution_count": 118,
   "id": "6eb6ab67",
   "metadata": {},
   "outputs": [
    {
     "data": {
      "text/plain": [
       "array([[ 0.30650659, -0.26380025, -0.14812296,  0.11591109],\n",
       "       [ 1.09392587, -0.26380025, -0.22414934, -0.00675006],\n",
       "       [ 1.99197431, -0.26380025, -0.01852633, -0.19074179],\n",
       "       ...,\n",
       "       [-1.06659646, -0.26380025,  0.01152763,  0.08524581],\n",
       "       [ 0.7815612 ,  1.06766665, -0.18625662, -0.06808063],\n",
       "       [ 0.60585607, -0.26380025, -0.3029225 ,  3.36643163]])"
      ]
     },
     "execution_count": 118,
     "metadata": {},
     "output_type": "execute_result"
    }
   ],
   "source": [
    "scaled_centered"
   ]
  },
  {
   "cell_type": "code",
   "execution_count": 119,
   "id": "99c6f930",
   "metadata": {},
   "outputs": [],
   "source": [
    "df_scaled = pd.DataFrame(scaled_centered, columns = df_final.columns)"
   ]
  },
  {
   "cell_type": "code",
   "execution_count": 120,
   "id": "9193c9db",
   "metadata": {},
   "outputs": [
    {
     "data": {
      "text/html": [
       "<div>\n",
       "<style scoped>\n",
       "    .dataframe tbody tr th:only-of-type {\n",
       "        vertical-align: middle;\n",
       "    }\n",
       "\n",
       "    .dataframe tbody tr th {\n",
       "        vertical-align: top;\n",
       "    }\n",
       "\n",
       "    .dataframe thead th {\n",
       "        text-align: right;\n",
       "    }\n",
       "</style>\n",
       "<table border=\"1\" class=\"dataframe\">\n",
       "  <thead>\n",
       "    <tr style=\"text-align: right;\">\n",
       "      <th></th>\n",
       "      <th>recency</th>\n",
       "      <th>frequency</th>\n",
       "      <th>monetary</th>\n",
       "      <th>extra_days_vs_estim</th>\n",
       "    </tr>\n",
       "  </thead>\n",
       "  <tbody>\n",
       "    <tr>\n",
       "      <th>0</th>\n",
       "      <td>0.306507</td>\n",
       "      <td>-0.2638</td>\n",
       "      <td>-0.148123</td>\n",
       "      <td>0.115911</td>\n",
       "    </tr>\n",
       "    <tr>\n",
       "      <th>1</th>\n",
       "      <td>1.093926</td>\n",
       "      <td>-0.2638</td>\n",
       "      <td>-0.224149</td>\n",
       "      <td>-0.006750</td>\n",
       "    </tr>\n",
       "    <tr>\n",
       "      <th>2</th>\n",
       "      <td>1.991974</td>\n",
       "      <td>-0.2638</td>\n",
       "      <td>-0.018526</td>\n",
       "      <td>-0.190742</td>\n",
       "    </tr>\n",
       "  </tbody>\n",
       "</table>\n",
       "</div>"
      ],
      "text/plain": [
       "    recency  frequency  monetary  extra_days_vs_estim\n",
       "0  0.306507    -0.2638 -0.148123             0.115911\n",
       "1  1.093926    -0.2638 -0.224149            -0.006750\n",
       "2  1.991974    -0.2638 -0.018526            -0.190742"
      ]
     },
     "execution_count": 120,
     "metadata": {},
     "output_type": "execute_result"
    }
   ],
   "source": [
    "df_scaled.head(3)"
   ]
  },
  {
   "cell_type": "code",
   "execution_count": 121,
   "id": "3da2a5d2",
   "metadata": {},
   "outputs": [
    {
     "data": {
      "image/png": "[encoded data removed]",
      "text/plain": [
       "<Figure size 1000x500 with 3 Axes>"
      ]
     },
     "metadata": {},
     "output_type": "display_data"
    }
   ],
   "source": [
    "fig, axes = plt.subplots(1, 3, figsize = (10,5))\n",
    "plt.tight_layout(pad = 3.0)\n",
    "\n",
    "s_ref = df_scaled['extra_days_vs_estim']\n",
    "\n",
    "for i, axes in enumerate(axes.flatten()):\n",
    "    col_name = df_scaled[['recency', 'frequency','monetary']].columns[i]\n",
    "    s_other = df_scaled[col_name]\n",
    "    \n",
    "    x = s_ref\n",
    "    y = s_other\n",
    "    \n",
    "    sns.scatterplot(x = x, y = y, ax = axes)\n",
    "plt.show()\n",
    "    \n",
    "\n",
    "\n",
    "\n",
    "\n"
   ]
  },
  {
   "cell_type": "markdown",
   "id": "6894a4ab",
   "metadata": {},
   "source": [
    "Observation:\n",
    "- Lorsque l'indicateur 'extra_days_vs_estim' est > 0 (c'est à dire un délai de livraison n'est pas conforme avec le délai prévu), on observe une dégradation de la récence.\n",
    "- Lorsque les délais de livraison sont respectés, on observe que la probabilité de fréquence d'achat et de CA augmente."
   ]
  },
  {
   "cell_type": "code",
   "execution_count": null,
   "id": "3a1b4960",
   "metadata": {},
   "outputs": [],
   "source": []
  },
  {
   "cell_type": "code",
   "execution_count": null,
   "id": "190a284a",
   "metadata": {},
   "outputs": [],
   "source": []
  },
  {
   "cell_type": "code",
   "execution_count": null,
   "id": "a1331d91",
   "metadata": {},
   "outputs": [],
   "source": []
  },
  {
   "cell_type": "code",
   "execution_count": null,
   "id": "09e3be43",
   "metadata": {},
   "outputs": [],
   "source": []
  }
 ],
 "metadata": {
  "kernelspec": {
   "display_name": "Python 3 (ipykernel)",
   "language": "python",
   "name": "python3"
  },
  "language_info": {
   "codemirror_mode": {
    "name": "ipython",
    "version": 3
   },
   "file_extension": ".py",
   "mimetype": "text/x-python",
   "name": "python",
   "nbconvert_exporter": "python",
   "pygments_lexer": "ipython3",
   "version": "3.9.15"
  },
  "toc": {
   "base_numbering": 1,
   "nav_menu": {
    "height": "188px",
    "width": "290px"
   },
   "number_sections": true,
   "sideBar": true,
   "skip_h1_title": false,
   "title_cell": "Table of Contents",
   "title_sidebar": "Contents",
   "toc_cell": true,
   "toc_position": {
    "height": "calc(100% - 180px)",
    "left": "10px",
    "top": "150px",
    "width": "177px"
   },
   "toc_section_display": true,
   "toc_window_display": true
  }
 },
 "nbformat": 4,
 "nbformat_minor": 5
}
